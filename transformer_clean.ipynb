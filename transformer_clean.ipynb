{
 "cells": [
  {
   "cell_type": "code",
   "execution_count": 1,
   "id": "0a061b51",
   "metadata": {},
   "outputs": [],
   "source": [
    "import torch\n",
    "from torch.utils.data import Dataset"
   ]
  },
  {
   "cell_type": "code",
   "execution_count": 2,
   "id": "7f81c7e6",
   "metadata": {},
   "outputs": [
    {
     "name": "stdout",
     "output_type": "stream",
     "text": [
      "LICENSE  README  test  test_small  train\r\n"
     ]
    }
   ],
   "source": [
    "!ls holstep"
   ]
  },
  {
   "cell_type": "code",
   "execution_count": 3,
   "id": "b3a7411a",
   "metadata": {},
   "outputs": [],
   "source": [
    "train_dir, test_dir = \"holstep/train\", \"holstep/test\""
   ]
  },
  {
   "cell_type": "code",
   "execution_count": 4,
   "id": "e97454b7",
   "metadata": {},
   "outputs": [],
   "source": [
    "import os\n",
    "from itertools import chain\n",
    "\n",
    "class Theorem:\n",
    "    def __init__(self, filename, splitting_token = 'c/\\\\'):\n",
    "        assert os.path.exists(filename), \"Theorem file should exist!\"\n",
    "        with open(filename,'r') as f:\n",
    "            fl = [x.replace('\\n','') for x in f.readlines()]\n",
    "        self.theorem_name = fl[0].replace('N ','')\n",
    "        self.theorem_text = fl[1].replace('C ','')\n",
    "        self.theorem_token = fl[2].replace('T ','')\n",
    "        self.filename = filename\n",
    "        self.labels, self.intrm , self.dependencies, i = [], [], [], 3\n",
    "        self.longest_sequence = 0\n",
    "        self.nmb_splits = 0\n",
    "        self.splitting_token = splitting_token\n",
    "        while i<len(fl):\n",
    "            if fl[i].startswith('D'):\n",
    "                self.dependencies.append(fl[i+2].replace('T ','').split(' '))\n",
    "                i+=3\n",
    "            elif fl[i].startswith('+') or fl[i].startswith('-'):\n",
    "                self.intrm.append(fl[i+1].replace('T ','').split(' '))\n",
    "                self.longest_sequence = max(self.longest_sequence, len(self.intrm[-1]))\n",
    "                self.nmb_splits = max(self.nmb_splits, self.intrm[-1].count(self.splitting_token)+1)\n",
    "                self.labels.append(fl[i][0])\n",
    "                i+=2\n",
    "            else:\n",
    "                i+=1\n",
    "        self.dependencies_length = sum([len(x) for x in self.dependencies])\n",
    "        self.unique_tokens = set(chain(*self.dependencies)).union(set(chain(*self.intrm))).union(set(chain(*self.theorem_token)))\n",
    "        self.label_mapping = {'+':1,'-':0}\n",
    "\n",
    "#         self.intrm.append(self.theorem_token)\n",
    "#         self.labels.append('+')\n",
    "        \n",
    "    def __len__(self):\n",
    "        return len(self.intrm)\n",
    "    \n",
    "    def __str__(self):\n",
    "        return \"Name: {}, text: {}, token: {}\".format(self.theorem_name, self.theorem_text, self.theorem_token)\n",
    "    \n",
    "    def __repr__(self):\n",
    "        return self.__str__()\n",
    "    \n",
    "    def __getitem__(self, idx):\n",
    "        return self.intrm[idx], self.dependencies, self.label_mapping[self.labels[idx]]\n",
    "    "
   ]
  },
  {
   "cell_type": "code",
   "execution_count": 6,
   "id": "41040dcf",
   "metadata": {},
   "outputs": [],
   "source": [
    "import os \n",
    "import numpy as np\n",
    "from functools import reduce\n",
    "from tqdm.notebook import tqdm\n",
    "import torch.nn.functional as F\n",
    "from torch_scatter import scatter_add\n",
    "\n",
    "\n",
    "class HOLDataset(Dataset):\n",
    "    def __init__(self, path, verbose = False, dep_sep = 'SEPARATOR', \n",
    "                 null_token = 'NIHIL', intrm_dep_sep = 'SEPARATOR_INTRM', \n",
    "                 splitting_token = 'c/\\\\', emb_dim = 128, theorem_cutoff_size=1000, intrm_cutoff_size=500,\n",
    "                 intrm_splits = None, \n",
    "                 longest_dependencies = None, longest_intrm = None, longest_theorem = None, \n",
    "                 unique_tokens = None, dictionary = None\n",
    "                ):\n",
    "        self.theorems = []\n",
    "        if verbose == True: \n",
    "            pbar = tqdm(os.listdir(path))\n",
    "        else:\n",
    "            pbar = os.listdir(path)\n",
    "        for f in pbar:\n",
    "            t = Theorem(\"{}/{}\".format(path,f), splitting_token)\n",
    "            if len(t)!=0 and len(t.theorem_token)<=theorem_cutoff_size and t.longest_sequence<=intrm_cutoff_size:\n",
    "                if dictionary is None:\n",
    "                    self.theorems.append(t)\n",
    "                else:\n",
    "                    if t.unique_tokens.issubset(unique_tokens):\n",
    "                        self.theorems.append(t)\n",
    "        self.size = sum([len(x) for x in self.theorems])-1\n",
    "        self.cumulative_size = np.cumsum([len(x) for x in self.theorems])\n",
    "        self.cumulative_size = np.insert(self.cumulative_size,0,0)\n",
    "        \n",
    "        if intrm_splits is None:\n",
    "            self.intrm_splits = max([x.nmb_splits for x in self.theorems])+1\n",
    "        else:\n",
    "            self.intrm_splits = intrm_splits\n",
    "            \n",
    "        if longest_dependencies is None:\n",
    "            self.longest_dependencies = max([x.dependencies_length+len(x.dependencies) for x in self.theorems])\n",
    "        else:\n",
    "            self.longest_dependencies = longest_dependencies\n",
    "        \n",
    "        if longest_intrm is None:\n",
    "            self.longest_intrm = max([x.longest_sequence for x in self.theorems])\n",
    "        else:\n",
    "            self.longest_intrm = longest_intrm\n",
    "            \n",
    "        if longest_theorem is None:\n",
    "            self.longest_theorem = max([len(x.theorem_token) for x in self.theorems])\n",
    "        else:\n",
    "            self.longest_theorem = longest_theorem\n",
    "        \n",
    "        if unique_tokens is None:\n",
    "            self.unique_tokens = set().union(*[x.unique_tokens for x in self.theorems]) # also one new token to separate dependencies and NULL token\n",
    "        else:\n",
    "            self.unique_tokens = unique_tokens\n",
    "            \n",
    "#         assert dep_sep not in self.unique_tokens, \"Dependency separator should be unique!\"\n",
    "#         assert null_token not in self.unique_tokens, \"NULL token should be unique!\"\n",
    "#         assert intrm_dep_sep not in self.unique_tokens, \"Dep_intrm separator should be unique!\"\n",
    "        self.dep_sep, self.null_token, self.intrm_dep_sep = dep_sep, null_token, intrm_dep_sep\n",
    "        self.unique_tokens.add(self.dep_sep)\n",
    "#         self.unique_tokens.add(self.null_token)\n",
    "        self.unique_tokens.add(self.intrm_dep_sep)\n",
    "        \n",
    "        self.split_token = splitting_token\n",
    "        \n",
    "#         self.encoder_avg = torch.nn.Embedding(len(self.unique_tokens), emb_dim)\n",
    "        if dictionary is None:\n",
    "            self.dictionary = {x:i for i,x in enumerate(self.unique_tokens,1)}\n",
    "        else:\n",
    "            self.dictionary = dictionary\n",
    "        self.dictionary[self.null_token] = 0\n",
    "        self.unique_tokens.add(self.null_token)\n",
    "        \n",
    "    def __len__(self):\n",
    "        return self.size\n",
    "    \n",
    "    def encode_intrm(self, tokens):\n",
    "        return torch.tensor([self.dictionary[x] for x in tokens])\n",
    "    \n",
    "    def encode_dependencies(self, dependencies):\n",
    "        joined = reduce(lambda a,b:a + [self.dep_sep] + b, dependencies) # hate this function, but looks neat\n",
    "        return torch.tensor([self.dictionary[x] for x in joined])\n",
    "    \n",
    "    def __getitem__(self, idx):\n",
    "        theorem_index = np.argmax(self.cumulative_size > idx)-1\n",
    "        if theorem_index<0:\n",
    "            theorem_index=0\n",
    "        offset = self.cumulative_size[theorem_index]\n",
    "        theorem_offset = idx-offset\n",
    "        try:\n",
    "            intrm, deps, label = self.theorems[theorem_index][theorem_offset]\n",
    "        except Exception as inst:\n",
    "            print(idx, offset, theorem_offset, theorem_index)\n",
    "            raise inst\n",
    "        encoded_intrm = self.encode_intrm(intrm)\n",
    "        encoded_dep = self.encode_dependencies(deps)\n",
    "        padded_dep = F.pad(encoded_dep,(0,self.longest_dependencies-len(encoded_dep)),value = self.dictionary[self.null_token])\n",
    "        padded_intrm = F.pad(encoded_intrm, (0,self.longest_intrm-len(encoded_intrm)),value = self.dictionary[self.null_token])\n",
    "        \n",
    "        \n",
    "        splitted = self.encode_intrm(intrm)\n",
    "        indices = [i for i,x in enumerate(splitted) if x == self.dictionary[self.split_token]]\n",
    "        \n",
    "        \n",
    "        splitted = torch.split(splitted,\n",
    "                               tuple(np.diff([0]+indices+[len(splitted)])))\n",
    "        \n",
    "        splitted = torch.stack([F.pad(x,(0,self.longest_intrm-len(x)),value = self.dictionary[self.null_token])\n",
    "                   for x in splitted])\n",
    "        \n",
    "        null_sequence = [[self.dictionary[self.null_token] for x in range(self.longest_intrm)]]\n",
    "        padded_avgd = torch.Tensor([null_sequence for x in range(self.intrm_splits-len(splitted))]).long()\n",
    "        padded_avgd = torch.concat((splitted, padded_avgd.squeeze(1)))\n",
    "        \n",
    "        encoded_proof = self.encode_intrm(self.theorems[theorem_index].theorem_token)\n",
    "        padded_proof = F.pad(encoded_proof, (0,self.longest_theorem-len(encoded_proof)),value = self.dictionary[self.null_token])\n",
    "        \n",
    "        return {'intrm':padded_intrm, 'deps':padded_dep, \n",
    "                'intrm_dep_sep':self.dictionary[self.intrm_dep_sep] ,'label':label,\n",
    "               'splitted': padded_avgd, 'theorem':padded_proof}\n",
    "        "
   ]
  },
  {
   "cell_type": "code",
   "execution_count": 8,
   "id": "0397fd1d",
   "metadata": {},
   "outputs": [],
   "source": [
    "# import pickle\n",
    "# with open('train_dataset_preprocessed.pickle','rb') as f:\n",
    "#     train_dataset = pickle.load(f)"
   ]
  },
  {
   "cell_type": "code",
   "execution_count": 9,
   "id": "ba7e6246",
   "metadata": {},
   "outputs": [],
   "source": [
    "train_dataset = HOLDataset(train_dir, verbose=True)\n",
    "# train_dataset = HOLDataset(test_dir, verbose=True)"
   ]
  },
  {
   "cell_type": "code",
   "execution_count": 12,
   "id": "fd4933f6",
   "metadata": {},
   "outputs": [
    {
     "data": {
      "application/vnd.jupyter.widget-view+json": {
       "model_id": "b0e6e41dd27a4b039f1e89770c4350b4",
       "version_major": 2,
       "version_minor": 0
      },
      "text/plain": [
       "  0%|          | 0/1411 [00:00<?, ?it/s]"
      ]
     },
     "metadata": {},
     "output_type": "display_data"
    }
   ],
   "source": [
    "test_dataset = HOLDataset(test_dir, verbose=True, intrm_splits = train_dataset.intrm_splits, \n",
    "                 longest_dependencies = train_dataset.longest_dependencies, longest_intrm = train_dataset.longest_intrm, \n",
    "                          longest_theorem = train_dataset.longest_theorem, \n",
    "                 unique_tokens = train_dataset.unique_tokens, dictionary = train_dataset.dictionary)"
   ]
  },
  {
   "cell_type": "code",
   "execution_count": 14,
   "id": "023c5513",
   "metadata": {},
   "outputs": [],
   "source": [
    "import math\n",
    "from torch import nn, Tensor\n",
    "# from pytorch tutorial\n",
    "class PositionalEncoding(nn.Module):\n",
    "\n",
    "    def __init__(self, d_model: int, dropout: float = 0.1, max_len: int = 5000):\n",
    "        super().__init__()\n",
    "        self.dropout = nn.Dropout(p=dropout)\n",
    "\n",
    "        position = torch.arange(max_len).unsqueeze(1)\n",
    "        div_term = torch.exp(torch.arange(0, d_model, 2) * (-math.log(10000.0) / d_model))\n",
    "        pe = torch.zeros(max_len, 1, d_model)\n",
    "        pe[:, 0, 0::2] = torch.sin(position * div_term)\n",
    "        pe[:, 0, 1::2] = torch.cos(position * div_term)\n",
    "        self.register_buffer('pe', pe)\n",
    "\n",
    "    def forward(self, x: Tensor) -> Tensor:\n",
    "        \"\"\"\n",
    "        Args:\n",
    "            x: Tensor, shape [seq_len, batch_size, embedding_dim]\n",
    "        \"\"\"\n",
    "        x = x + self.pe[:x.size(0)]\n",
    "        return self.dropout(x)"
   ]
  },
  {
   "cell_type": "code",
   "execution_count": 16,
   "id": "6339de1a",
   "metadata": {},
   "outputs": [],
   "source": [
    "from torch.nn import TransformerEncoder, TransformerEncoderLayer\n",
    "\n",
    "class TransformerModelMI(nn.Module):\n",
    "\n",
    "    def __init__(self, ntoken: int, d_model: int, nhead: int, d_hid: int,\n",
    "                 nlayers: int, null_token:int, \n",
    "                 max_length_i: int, \n",
    "                 max_length_d: int,\n",
    "                 max_length_a: int,\n",
    "                 max_length_proof:int,\n",
    "                 dropout: float = 0.5, output_classes: int=2):\n",
    "        super().__init__()\n",
    "        self.model_type = 'Transformer'\n",
    "        self.pos_encoder = PositionalEncoding(d_model, dropout)\n",
    "        encoder_layers = TransformerEncoderLayer(d_model, nhead, d_hid, dropout, batch_first=True)\n",
    "        \n",
    "#         dep_encoder_layers = TransformerEncoderLayer(d_model, nhead, d_hid, dropout)\n",
    "        avg_layers = TransformerEncoderLayer(d_model, nhead, d_hid, dropout, batch_first=True)\n",
    "        proof_layers = TransformerEncoderLayer(d_model, nhead, d_hid, dropout, batch_first=True)\n",
    "        \n",
    "        self.transformer_encoder = TransformerEncoder(encoder_layers, nlayers)\n",
    "        self.transformer_avg_encoder = TransformerEncoder(avg_layers, nlayers)\n",
    "        \n",
    "        self.proof_encoder = TransformerEncoder(proof_layers, nlayers)\n",
    "        \n",
    "\n",
    "#         self.dependencies_encoder = TransformerEncoder(dep_encoder_layers, nlayers)\n",
    "        self.encoder = nn.Embedding(ntoken, d_model)\n",
    "        \n",
    "        self.d_model = d_model\n",
    "        self.null_token = null_token\n",
    "        self.d_hid = d_hid\n",
    "        \n",
    "        self.max_length_i = max_length_i\n",
    "        self.max_length_d = max_length_d\n",
    "        self.max_length_a = max_length_a\n",
    "        self.max_length_proof = max_length_proof\n",
    "        \n",
    "#         self.decoder = nn.Linear(max_length_d+max_length_a+max_length_proof, output_classes)\n",
    "        self.decoder_gru = nn.LSTM(d_model, d_hid, batch_first=True, bidirectional=True, num_layers=nlayers)\n",
    "        self.decoder_final = nn.Linear(2*nlayers*d_hid*2, output_classes)\n",
    "#         self.decoder_final = nn.Linear(output_classes*d_model, output_classes)\n",
    "        self.init_weights()\n",
    "\n",
    "    def init_weights(self):\n",
    "        initrange = 0.1\n",
    "        self.encoder.weight.data.uniform_(-initrange, initrange)\n",
    "        \n",
    "        \n",
    "    def forward(self, src: Tensor, dependencies:Tensor, splitted: Tensor, proof: Tensor, src_mask: Tensor,\n",
    "               src_mask_avg:Tensor, src_mask_proof:Tensor):\n",
    "\n",
    "        averaged = self.encoder(splitted) * math.sqrt(self.d_model)\n",
    "        averaged = torch.mean(averaged, axis=2)\n",
    "        output_a = self.transformer_avg_encoder(averaged, src_mask_avg)\n",
    "        output_a = self.pos_encoder(output_a)\n",
    "        \n",
    "        proof = self.encoder(proof) * math.sqrt(self.d_model)\n",
    "        proof = self.pos_encoder(proof)\n",
    "        proof = self.proof_encoder(proof, src_mask_proof)\n",
    "        \n",
    "        padding_mask = src==0\n",
    "        src = self.encoder(src) * math.sqrt(self.d_model)\n",
    "        src = self.pos_encoder(src)\n",
    "        output = self.transformer_encoder(src, src_key_padding_mask=padding_mask)\n",
    "        output = torch.concat((output, output_a, proof), axis=1)\n",
    "\n",
    "        _, (output_h, output_c) = self.decoder_gru(output)\n",
    "        output_h = torch.transpose(output_h, 1, 0)\n",
    "        output_c = torch.transpose(output_c, 1, 0)\n",
    "        output = torch.concat((output_c, output_h), axis=1)\n",
    "        \n",
    "        output = nn.LeakyReLU()(output)\n",
    "        output = output.flatten(start_dim=1)\n",
    "        output = nn.Softmax(dim=1)(self.decoder_final(output))\n",
    "        return output"
   ]
  },
  {
   "cell_type": "code",
   "execution_count": 17,
   "id": "8e4413f0",
   "metadata": {},
   "outputs": [],
   "source": [
    "# train_dataset"
   ]
  },
  {
   "cell_type": "code",
   "execution_count": 18,
   "id": "0fafb5a0",
   "metadata": {},
   "outputs": [],
   "source": [
    "device = torch.device('cuda' if torch.cuda.is_available() else 'cpu')\n",
    "\n",
    "# device = torch.device('cpu')\n",
    "\n",
    "ntokens = len(train_dataset.unique_tokens)  # size of vocabulary\n",
    "emsize = 64  # embedding dimension\n",
    "d_hid = 128  # dimension of the feedforward network model in nn.TransformerEncoder\n",
    "nlayers = 1  # number of nn.TransformerEncoderLayer in nn.TransformerEncoder\n",
    "nhead = 2  # number of heads in 4nn.MultiheadAttention\n",
    "dropout = 0.2  # dropout probability\n",
    "model = TransformerModelMI(ntokens, emsize, nhead, d_hid, nlayers, train_dataset.dictionary[train_dataset.null_token] ,\n",
    "                             max_length_i = train_dataset.longest_dependencies, \n",
    "                             max_length_d = train_dataset.longest_intrm,\n",
    "                             max_length_a = train_dataset.intrm_splits,\n",
    "                           max_length_proof = train_dataset.longest_theorem,\n",
    "                           dropout=dropout,output_classes=2).to(device)\n",
    "\n",
    "criterion = nn.CrossEntropyLoss()\n",
    "# criterion = nn.BCELoss()\n",
    "lr = 0.001  # learning rate\n",
    "optimizer = torch.optim.Adam(model.parameters(), lr=lr)\n"
   ]
  },
  {
   "cell_type": "code",
   "execution_count": 19,
   "id": "4c65cbad",
   "metadata": {},
   "outputs": [],
   "source": [
    "from torch.utils.data import DataLoader\n",
    "\n",
    "bptt = 64\n",
    "# bptt = 1\n",
    "\n",
    "train_dataloader = DataLoader(train_dataset, batch_size=bptt, shuffle=True, num_workers=4)\n",
    "test_dataloader = DataLoader(test_dataset, batch_size=2, shuffle=True)"
   ]
  },
  {
   "cell_type": "code",
   "execution_count": 23,
   "id": "694aaaf6",
   "metadata": {},
   "outputs": [],
   "source": [
    "def generate_square_subsequent_mask(sz: int):\n",
    "    \"\"\"Generates an upper-triangular matrix of -inf, with zeros on diag.\"\"\"\n",
    "    return torch.triu(torch.ones(sz, sz) * float('-inf'), diagonal=1)"
   ]
  },
  {
   "cell_type": "code",
   "execution_count": 27,
   "id": "d1bb4438",
   "metadata": {},
   "outputs": [],
   "source": [
    "import time\n",
    "from sklearn.metrics import f1_score\n",
    "\n",
    "def train_loop(model, dataloader, optimizer, i_number):\n",
    "    size = len(dataloader)\n",
    "    model.train()  # turn on train mode\n",
    "    total_loss = 0.\n",
    "    log_interval = 500\n",
    "    start_time = time.time()\n",
    "    src_mask = generate_square_subsequent_mask(dataloader.dataset.longest_intrm).to(device)\n",
    "    src_mask_avg = generate_square_subsequent_mask(dataloader.dataset.intrm_splits).to(device)\n",
    "    src_mask_proof = generate_square_subsequent_mask(dataloader.dataset.longest_theorem).to(device)\n",
    "    \n",
    "    loss_history = []\n",
    "    pbar = tqdm(dataloader, total = i_number)\n",
    "    for batch, train_data in enumerate(pbar):\n",
    "        batch_size = train_data['intrm'].size(0)\n",
    "        X = train_data['intrm'].to(device)\n",
    "        dep_intrm_vector = train_data['intrm_dep_sep'].to(device)\n",
    "        y = train_data['label'].to(device).long()\n",
    "        splitted = train_data['splitted'].to(device).long()\n",
    "        deps = train_data['deps'].to(device)\n",
    "        proof = train_data['theorem'].to(device)\n",
    "#         if batch_size != bptt:  # only on last batch\n",
    "#             src_mask = src_mask[:batch_size, :batch_size]\n",
    "        optimizer.zero_grad()\n",
    "        output = model(X, deps, splitted, proof, src_mask, src_mask_avg, src_mask_proof)\n",
    "        #         output = model(torch.concat((X, dep_intrm_vector.reshape(-1,1), deps), axis=1), src_mask)\n",
    "#         output = output.flatten(end_dim=1)\n",
    "        loss = criterion(output, y)#.float())\n",
    "\n",
    "#         loss = criterion(output.view(-1), y.float())\n",
    "        \n",
    "        if batch % 5 == 0:\n",
    "            pbar.set_description(\"{:.2f}\".format(f1_score(y.cpu().numpy(), output.argmax(axis=1).cpu().numpy(), average='micro'))) \n",
    "        \n",
    "        \n",
    "        loss.backward()\n",
    "        optimizer.step()\n",
    "        torch.nn.utils.clip_grad_norm_(model.parameters(), 0.005)\n",
    "\n",
    "        if batch == i_number:\n",
    "            return loss_history\n",
    "\n",
    "        total_loss += loss.item()\n",
    "        \n",
    "        if batch % log_interval == 0 and batch > 0:\n",
    "#             lr = scheduler.get_last_lr()[0]\n",
    "            ms_per_batch = (time.time() - start_time) * 1000 / log_interval\n",
    "            cur_loss = total_loss / log_interval\n",
    "            loss_history.append(cur_loss)\n",
    "            rolling_loss = np.mean(loss_history[-5:])\n",
    "            try:\n",
    "                ppl = math.exp(cur_loss)\n",
    "            except Exception as inst:\n",
    "                ppl = float('inf')\n",
    "            print(f'| {batch:5d}/{size:5d} batches | {rolling_loss:5.2} rolling loss |'\n",
    "                  f'ms/batch {ms_per_batch:5.2f} | '\n",
    "                  f'loss {cur_loss:5.2f} | ppl {ppl:8.2f}')\n",
    "            total_loss = 0\n",
    "            start_time = time.time()\n",
    "\n",
    "    return loss_history\n",
    "# def train(model: nn.Module):\n",
    "    \n"
   ]
  },
  {
   "cell_type": "code",
   "execution_count": 28,
   "id": "90aba198",
   "metadata": {},
   "outputs": [],
   "source": [
    "def evaluate(model, dataloader, criterion, test_size=10):\n",
    "    model.eval()\n",
    "    labels = []\n",
    "    predictions = []\n",
    "#     src_mask = generate_square_subsequent_mask(bptt).to(device)\n",
    "    src_mask = generate_square_subsequent_mask(dataloader.dataset.longest_intrm).to(device)\n",
    "    src_mask_avg = generate_square_subsequent_mask(dataloader.dataset.intrm_splits).to(device)\n",
    "    src_mask_proof = generate_square_subsequent_mask(dataloader.dataset.longest_theorem).to(device)\n",
    "    total_loss = 0\n",
    "    for i, test_data in enumerate(tqdm(dataloader, total = test_size)):\n",
    "        batch_size = test_data['intrm'].size(0)\n",
    "        X = test_data['intrm'].to(device)\n",
    "        dep_intrm_vector = test_data['intrm_dep_sep'].to(device)\n",
    "        y = test_data['label'].to(device).long()\n",
    "        splitted = test_data['splitted'].to(device).long()\n",
    "        deps = test_data['deps'].to(device)\n",
    "        proof = test_data['theorem'].to(device)\n",
    "#         if batch_size != bptt:  # only on last batch\n",
    "#             src_mask = src_mask[:batch_size, :batch_size]\n",
    "        output = model(X, deps, splitted, proof, src_mask, src_mask_avg, src_mask_proof)\n",
    "        loss = criterion(output, y)\n",
    "        labels.append(y.cpu().numpy())        \n",
    "        predictions.append(output.argmax(axis=1).cpu().numpy())\n",
    "        total_loss+=loss.item()\n",
    "        if i>=test_size:\n",
    "            return labels, predictions, total_loss\n",
    "    return labels, predictions, total_loss"
   ]
  },
  {
   "cell_type": "code",
   "execution_count": 30,
   "id": "9054b583",
   "metadata": {
    "scrolled": true
   },
   "outputs": [
    {
     "data": {
      "application/vnd.jupyter.widget-view+json": {
       "model_id": "2a94575608df43c3bc09a76d7490d5b9",
       "version_major": 2,
       "version_minor": 0
      },
      "text/plain": [
       "  0%|          | 0/100 [00:00<?, ?it/s]"
      ]
     },
     "metadata": {},
     "output_type": "display_data"
    },
    {
     "name": "stdout",
     "output_type": "stream",
     "text": [
      "              precision    recall  f1-score   support\n",
      "\n",
      "           0       0.49      0.65      0.56       816\n",
      "           1       0.48      0.32      0.38       800\n",
      "\n",
      "    accuracy                           0.49      1616\n",
      "   macro avg       0.49      0.49      0.47      1616\n",
      "weighted avg       0.49      0.49      0.47      1616\n",
      "\n"
     ]
    }
   ],
   "source": [
    "from sklearn.metrics import classification_report\n",
    "test_dataloader = DataLoader(test_dataset, batch_size=16, shuffle=True)\n",
    "test_labels, test_predictions, val_loss = evaluate(model, test_dataloader, criterion ,100)\n",
    "test_labels = np.array(test_labels).flatten()\n",
    "preds = np.array(test_predictions).flatten()\n",
    "print(classification_report(test_labels, preds))\n"
   ]
  },
  {
   "cell_type": "code",
   "execution_count": 38,
   "id": "8c5197ea",
   "metadata": {
    "scrolled": true
   },
   "outputs": [
    {
     "data": {
      "application/vnd.jupyter.widget-view+json": {
       "model_id": "e5557a95ba4b4ddcbe4d53737e79b5b5",
       "version_major": 2,
       "version_minor": 0
      },
      "text/plain": [
       "  0%|          | 0/3 [00:00<?, ?it/s]"
      ]
     },
     "metadata": {},
     "output_type": "display_data"
    },
    {
     "data": {
      "application/vnd.jupyter.widget-view+json": {
       "model_id": "e24cd288cbcf4f95b5b2b78e8def663a",
       "version_major": 2,
       "version_minor": 0
      },
      "text/plain": [
       "  0%|          | 0/10 [00:00<?, ?it/s]"
      ]
     },
     "metadata": {},
     "output_type": "display_data"
    },
    {
     "data": {
      "application/vnd.jupyter.widget-view+json": {
       "model_id": "df7ce19fc5644371866dd9650325af71",
       "version_major": 2,
       "version_minor": 0
      },
      "text/plain": [
       "  0%|          | 0/2562 [00:00<?, ?it/s]"
      ]
     },
     "metadata": {},
     "output_type": "display_data"
    },
    {
     "name": "stderr",
     "output_type": "stream",
     "text": [
      "Exception ignored in: <generator object tqdm_notebook.__iter__ at 0x7f109d23e660>\n",
      "Traceback (most recent call last):\n",
      "  File \"/home/dhonchar/anaconda3/envs/pytorch2/lib/python3.8/site-packages/tqdm/notebook.py\", line 263, in __iter__\n",
      "    self.disp(bar_style='danger')\n",
      "  File \"/home/dhonchar/anaconda3/envs/pytorch2/lib/python3.8/site-packages/tqdm/notebook.py\", line 187, in display\n",
      "    pbar.bar_style = bar_style\n",
      "  File \"/home/dhonchar/anaconda3/envs/pytorch2/lib/python3.8/site-packages/traitlets/traitlets.py\", line 606, in __set__\n",
      "    self.set(obj, value)\n",
      "  File \"/home/dhonchar/anaconda3/envs/pytorch2/lib/python3.8/site-packages/traitlets/traitlets.py\", line 595, in set\n",
      "    obj._notify_trait(self.name, old_value, new_value)\n",
      "  File \"/home/dhonchar/anaconda3/envs/pytorch2/lib/python3.8/site-packages/traitlets/traitlets.py\", line 1219, in _notify_trait\n",
      "    self.notify_change(Bunch(\n",
      "  File \"/home/dhonchar/anaconda3/envs/pytorch2/lib/python3.8/site-packages/ipywidgets/widgets/widget.py\", line 605, in notify_change\n",
      "    self.send_state(key=name)\n",
      "  File \"/home/dhonchar/anaconda3/envs/pytorch2/lib/python3.8/site-packages/ipywidgets/widgets/widget.py\", line 481, in send_state\n",
      "    state = self.get_state(key=key)\n",
      "  File \"/home/dhonchar/anaconda3/envs/pytorch2/lib/python3.8/site-packages/ipywidgets/widgets/widget.py\", line 515, in get_state\n",
      "    traits = self.traits()\n",
      "  File \"/home/dhonchar/anaconda3/envs/pytorch2/lib/python3.8/site-packages/traitlets/traitlets.py\", line 1608, in traits\n",
      "    traits = dict([memb for memb in getmembers(self.__class__) if\n",
      "  File \"/home/dhonchar/anaconda3/envs/pytorch2/lib/python3.8/site-packages/traitlets/traitlets.py\", line 234, in getmembers\n",
      "    results.append((key, value))\n",
      "KeyboardInterrupt: \n",
      "Exception ignored in: <function tqdm.__del__ at 0x7f12016d5790>\n",
      "Traceback (most recent call last):\n",
      "  File \"/home/dhonchar/anaconda3/envs/pytorch2/lib/python3.8/site-packages/tqdm/std.py\", line 1161, in __del__\n",
      "    def __del__(self):\n",
      "KeyboardInterrupt: \n"
     ]
    },
    {
     "ename": "KeyboardInterrupt",
     "evalue": "",
     "output_type": "error",
     "traceback": [
      "\u001b[0;31m---------------------------------------------------------------------------\u001b[0m",
      "\u001b[0;31mKeyboardInterrupt\u001b[0m                         Traceback (most recent call last)",
      "Input \u001b[0;32mIn [38]\u001b[0m, in \u001b[0;36m<cell line: 16>\u001b[0;34m()\u001b[0m\n\u001b[1;32m     27\u001b[0m train_dataloader \u001b[38;5;241m=\u001b[39m DataLoader(train_dataset, batch_size\u001b[38;5;241m=\u001b[39mbptt, shuffle\u001b[38;5;241m=\u001b[39m\u001b[38;5;28;01mTrue\u001b[39;00m, num_workers\u001b[38;5;241m=\u001b[39m\u001b[38;5;241m4\u001b[39m)\n\u001b[1;32m     28\u001b[0m test_dataloader \u001b[38;5;241m=\u001b[39m DataLoader(test_dataset, batch_size\u001b[38;5;241m=\u001b[39m\u001b[38;5;241m4\u001b[39m, shuffle\u001b[38;5;241m=\u001b[39m\u001b[38;5;28;01mTrue\u001b[39;00m)\n\u001b[0;32m---> 30\u001b[0m test_labels, test_predictions, val_loss \u001b[38;5;241m=\u001b[39m \u001b[43mevaluate\u001b[49m\u001b[43m(\u001b[49m\u001b[43mmodel\u001b[49m\u001b[43m,\u001b[49m\u001b[43m \u001b[49m\u001b[43mtest_dataloader\u001b[49m\u001b[43m,\u001b[49m\u001b[43m \u001b[49m\u001b[43mcriterion\u001b[49m\u001b[43m,\u001b[49m\u001b[43m \u001b[49m\n\u001b[1;32m     31\u001b[0m \u001b[43m                                                   \u001b[49m\u001b[38;5;28;43mint\u001b[39;49m\u001b[43m(\u001b[49m\u001b[38;5;28;43mlen\u001b[39;49m\u001b[43m(\u001b[49m\u001b[43mtest_dataloader\u001b[49m\u001b[43m)\u001b[49m\u001b[38;5;241;43m/\u001b[39;49m\u001b[38;5;241;43m10\u001b[39;49m\u001b[43m)\u001b[49m\u001b[43m)\u001b[49m\n\u001b[1;32m     32\u001b[0m test_labels \u001b[38;5;241m=\u001b[39m np\u001b[38;5;241m.\u001b[39marray(test_labels)\u001b[38;5;241m.\u001b[39mflatten()\n\u001b[1;32m     35\u001b[0m preds \u001b[38;5;241m=\u001b[39m np\u001b[38;5;241m.\u001b[39marray(test_predictions)\u001b[38;5;241m.\u001b[39mflatten()\n",
      "Input \u001b[0;32mIn [27]\u001b[0m, in \u001b[0;36mevaluate\u001b[0;34m(model, dataloader, criterion, test_size)\u001b[0m\n\u001b[1;32m     17\u001b[0m         proof \u001b[38;5;241m=\u001b[39m test_data[\u001b[38;5;124m'\u001b[39m\u001b[38;5;124mtheorem\u001b[39m\u001b[38;5;124m'\u001b[39m]\u001b[38;5;241m.\u001b[39mto(device)\n\u001b[1;32m     18\u001b[0m \u001b[38;5;66;03m#         if batch_size != bptt:  # only on last batch\u001b[39;00m\n\u001b[1;32m     19\u001b[0m \u001b[38;5;66;03m#             src_mask = src_mask[:batch_size, :batch_size]\u001b[39;00m\n\u001b[0;32m---> 20\u001b[0m         output \u001b[38;5;241m=\u001b[39m \u001b[43mmodel\u001b[49m\u001b[43m(\u001b[49m\u001b[43mX\u001b[49m\u001b[43m,\u001b[49m\u001b[43m \u001b[49m\u001b[43mdeps\u001b[49m\u001b[43m,\u001b[49m\u001b[43m \u001b[49m\u001b[43msplitted\u001b[49m\u001b[43m,\u001b[49m\u001b[43m \u001b[49m\u001b[43mproof\u001b[49m\u001b[43m,\u001b[49m\u001b[43m \u001b[49m\u001b[43msrc_mask\u001b[49m\u001b[43m,\u001b[49m\u001b[43m \u001b[49m\u001b[43msrc_mask_avg\u001b[49m\u001b[43m,\u001b[49m\u001b[43m \u001b[49m\u001b[43msrc_mask_proof\u001b[49m\u001b[43m)\u001b[49m\n\u001b[1;32m     21\u001b[0m         loss \u001b[38;5;241m=\u001b[39m criterion(output, y)\n\u001b[1;32m     22\u001b[0m         labels\u001b[38;5;241m.\u001b[39mappend(y\u001b[38;5;241m.\u001b[39mcpu()\u001b[38;5;241m.\u001b[39mnumpy())        \n",
      "File \u001b[0;32m~/anaconda3/envs/pytorch2/lib/python3.8/site-packages/torch/nn/modules/module.py:1110\u001b[0m, in \u001b[0;36mModule._call_impl\u001b[0;34m(self, *input, **kwargs)\u001b[0m\n\u001b[1;32m   1106\u001b[0m \u001b[38;5;66;03m# If we don't have any hooks, we want to skip the rest of the logic in\u001b[39;00m\n\u001b[1;32m   1107\u001b[0m \u001b[38;5;66;03m# this function, and just call forward.\u001b[39;00m\n\u001b[1;32m   1108\u001b[0m \u001b[38;5;28;01mif\u001b[39;00m \u001b[38;5;129;01mnot\u001b[39;00m (\u001b[38;5;28mself\u001b[39m\u001b[38;5;241m.\u001b[39m_backward_hooks \u001b[38;5;129;01mor\u001b[39;00m \u001b[38;5;28mself\u001b[39m\u001b[38;5;241m.\u001b[39m_forward_hooks \u001b[38;5;129;01mor\u001b[39;00m \u001b[38;5;28mself\u001b[39m\u001b[38;5;241m.\u001b[39m_forward_pre_hooks \u001b[38;5;129;01mor\u001b[39;00m _global_backward_hooks\n\u001b[1;32m   1109\u001b[0m         \u001b[38;5;129;01mor\u001b[39;00m _global_forward_hooks \u001b[38;5;129;01mor\u001b[39;00m _global_forward_pre_hooks):\n\u001b[0;32m-> 1110\u001b[0m     \u001b[38;5;28;01mreturn\u001b[39;00m \u001b[43mforward_call\u001b[49m\u001b[43m(\u001b[49m\u001b[38;5;241;43m*\u001b[39;49m\u001b[38;5;28;43minput\u001b[39;49m\u001b[43m,\u001b[49m\u001b[43m \u001b[49m\u001b[38;5;241;43m*\u001b[39;49m\u001b[38;5;241;43m*\u001b[39;49m\u001b[43mkwargs\u001b[49m\u001b[43m)\u001b[49m\n\u001b[1;32m   1111\u001b[0m \u001b[38;5;66;03m# Do not call functions when jit is used\u001b[39;00m\n\u001b[1;32m   1112\u001b[0m full_backward_hooks, non_full_backward_hooks \u001b[38;5;241m=\u001b[39m [], []\n",
      "Input \u001b[0;32mIn [15]\u001b[0m, in \u001b[0;36mTransformerModelMI.forward\u001b[0;34m(self, src, dependencies, splitted, proof, src_mask, src_mask_avg, src_mask_proof)\u001b[0m\n\u001b[1;32m     74\u001b[0m         output \u001b[38;5;241m=\u001b[39m torch\u001b[38;5;241m.\u001b[39mconcat((output, output_a, proof), axis\u001b[38;5;241m=\u001b[39m\u001b[38;5;241m1\u001b[39m)\n\u001b[1;32m     75\u001b[0m \u001b[38;5;66;03m#         print(output.shape)\u001b[39;00m\n\u001b[1;32m     76\u001b[0m \u001b[38;5;66;03m#         output = torch.transpose(output, 1, 2)\u001b[39;00m\n\u001b[0;32m---> 77\u001b[0m         _, (output_h, output_c) \u001b[38;5;241m=\u001b[39m \u001b[38;5;28;43mself\u001b[39;49m\u001b[38;5;241;43m.\u001b[39;49m\u001b[43mdecoder_gru\u001b[49m\u001b[43m(\u001b[49m\u001b[43moutput\u001b[49m\u001b[43m)\u001b[49m\n\u001b[1;32m     78\u001b[0m         output_h \u001b[38;5;241m=\u001b[39m torch\u001b[38;5;241m.\u001b[39mtranspose(output_h, \u001b[38;5;241m1\u001b[39m, \u001b[38;5;241m0\u001b[39m)\n\u001b[1;32m     79\u001b[0m         output_c \u001b[38;5;241m=\u001b[39m torch\u001b[38;5;241m.\u001b[39mtranspose(output_c, \u001b[38;5;241m1\u001b[39m, \u001b[38;5;241m0\u001b[39m)\n",
      "File \u001b[0;32m~/anaconda3/envs/pytorch2/lib/python3.8/site-packages/torch/nn/modules/module.py:1110\u001b[0m, in \u001b[0;36mModule._call_impl\u001b[0;34m(self, *input, **kwargs)\u001b[0m\n\u001b[1;32m   1106\u001b[0m \u001b[38;5;66;03m# If we don't have any hooks, we want to skip the rest of the logic in\u001b[39;00m\n\u001b[1;32m   1107\u001b[0m \u001b[38;5;66;03m# this function, and just call forward.\u001b[39;00m\n\u001b[1;32m   1108\u001b[0m \u001b[38;5;28;01mif\u001b[39;00m \u001b[38;5;129;01mnot\u001b[39;00m (\u001b[38;5;28mself\u001b[39m\u001b[38;5;241m.\u001b[39m_backward_hooks \u001b[38;5;129;01mor\u001b[39;00m \u001b[38;5;28mself\u001b[39m\u001b[38;5;241m.\u001b[39m_forward_hooks \u001b[38;5;129;01mor\u001b[39;00m \u001b[38;5;28mself\u001b[39m\u001b[38;5;241m.\u001b[39m_forward_pre_hooks \u001b[38;5;129;01mor\u001b[39;00m _global_backward_hooks\n\u001b[1;32m   1109\u001b[0m         \u001b[38;5;129;01mor\u001b[39;00m _global_forward_hooks \u001b[38;5;129;01mor\u001b[39;00m _global_forward_pre_hooks):\n\u001b[0;32m-> 1110\u001b[0m     \u001b[38;5;28;01mreturn\u001b[39;00m \u001b[43mforward_call\u001b[49m\u001b[43m(\u001b[49m\u001b[38;5;241;43m*\u001b[39;49m\u001b[38;5;28;43minput\u001b[39;49m\u001b[43m,\u001b[49m\u001b[43m \u001b[49m\u001b[38;5;241;43m*\u001b[39;49m\u001b[38;5;241;43m*\u001b[39;49m\u001b[43mkwargs\u001b[49m\u001b[43m)\u001b[49m\n\u001b[1;32m   1111\u001b[0m \u001b[38;5;66;03m# Do not call functions when jit is used\u001b[39;00m\n\u001b[1;32m   1112\u001b[0m full_backward_hooks, non_full_backward_hooks \u001b[38;5;241m=\u001b[39m [], []\n",
      "File \u001b[0;32m~/anaconda3/envs/pytorch2/lib/python3.8/site-packages/torch/nn/modules/rnn.py:761\u001b[0m, in \u001b[0;36mLSTM.forward\u001b[0;34m(self, input, hx)\u001b[0m\n\u001b[1;32m    759\u001b[0m \u001b[38;5;28mself\u001b[39m\u001b[38;5;241m.\u001b[39mcheck_forward_args(\u001b[38;5;28minput\u001b[39m, hx, batch_sizes)\n\u001b[1;32m    760\u001b[0m \u001b[38;5;28;01mif\u001b[39;00m batch_sizes \u001b[38;5;129;01mis\u001b[39;00m \u001b[38;5;28;01mNone\u001b[39;00m:\n\u001b[0;32m--> 761\u001b[0m     result \u001b[38;5;241m=\u001b[39m \u001b[43m_VF\u001b[49m\u001b[38;5;241;43m.\u001b[39;49m\u001b[43mlstm\u001b[49m\u001b[43m(\u001b[49m\u001b[38;5;28;43minput\u001b[39;49m\u001b[43m,\u001b[49m\u001b[43m \u001b[49m\u001b[43mhx\u001b[49m\u001b[43m,\u001b[49m\u001b[43m \u001b[49m\u001b[38;5;28;43mself\u001b[39;49m\u001b[38;5;241;43m.\u001b[39;49m\u001b[43m_flat_weights\u001b[49m\u001b[43m,\u001b[49m\u001b[43m \u001b[49m\u001b[38;5;28;43mself\u001b[39;49m\u001b[38;5;241;43m.\u001b[39;49m\u001b[43mbias\u001b[49m\u001b[43m,\u001b[49m\u001b[43m \u001b[49m\u001b[38;5;28;43mself\u001b[39;49m\u001b[38;5;241;43m.\u001b[39;49m\u001b[43mnum_layers\u001b[49m\u001b[43m,\u001b[49m\n\u001b[1;32m    762\u001b[0m \u001b[43m                      \u001b[49m\u001b[38;5;28;43mself\u001b[39;49m\u001b[38;5;241;43m.\u001b[39;49m\u001b[43mdropout\u001b[49m\u001b[43m,\u001b[49m\u001b[43m \u001b[49m\u001b[38;5;28;43mself\u001b[39;49m\u001b[38;5;241;43m.\u001b[39;49m\u001b[43mtraining\u001b[49m\u001b[43m,\u001b[49m\u001b[43m \u001b[49m\u001b[38;5;28;43mself\u001b[39;49m\u001b[38;5;241;43m.\u001b[39;49m\u001b[43mbidirectional\u001b[49m\u001b[43m,\u001b[49m\u001b[43m \u001b[49m\u001b[38;5;28;43mself\u001b[39;49m\u001b[38;5;241;43m.\u001b[39;49m\u001b[43mbatch_first\u001b[49m\u001b[43m)\u001b[49m\n\u001b[1;32m    763\u001b[0m \u001b[38;5;28;01melse\u001b[39;00m:\n\u001b[1;32m    764\u001b[0m     result \u001b[38;5;241m=\u001b[39m _VF\u001b[38;5;241m.\u001b[39mlstm(\u001b[38;5;28minput\u001b[39m, batch_sizes, hx, \u001b[38;5;28mself\u001b[39m\u001b[38;5;241m.\u001b[39m_flat_weights, \u001b[38;5;28mself\u001b[39m\u001b[38;5;241m.\u001b[39mbias,\n\u001b[1;32m    765\u001b[0m                       \u001b[38;5;28mself\u001b[39m\u001b[38;5;241m.\u001b[39mnum_layers, \u001b[38;5;28mself\u001b[39m\u001b[38;5;241m.\u001b[39mdropout, \u001b[38;5;28mself\u001b[39m\u001b[38;5;241m.\u001b[39mtraining, \u001b[38;5;28mself\u001b[39m\u001b[38;5;241m.\u001b[39mbidirectional)\n",
      "\u001b[0;31mKeyboardInterrupt\u001b[0m: "
     ]
    }
   ],
   "source": [
    "from copy import deepcopy\n",
    "from tqdm.notebook import trange\n",
    "from sklearn.metrics import f1_score\n",
    "import pickle\n",
    "import gc\n",
    "\n",
    "num_epochs = 1\n",
    "loss_history_global = []\n",
    "\n",
    "evaluation_results = []\n",
    "\n",
    "grad_list = []\n",
    "\n",
    "num_iters = 10\n",
    "experiments = 3\n",
    "for k in trange(experiments):\n",
    "    model = TransformerModelMI(ntokens, emsize, nhead, d_hid, nlayers, train_dataset.dictionary[train_dataset.null_token] ,\n",
    "                             max_length_i = train_dataset.longest_dependencies, \n",
    "                             max_length_d = train_dataset.longest_intrm,\n",
    "                             max_length_a = train_dataset.intrm_splits,\n",
    "                           max_length_proof = train_dataset.longest_theorem,\n",
    "                           dropout=dropout,output_classes=2).to(device)\n",
    "\n",
    "    optimizer = torch.optim.Adam(model.parameters(), lr=lr)\n",
    "    val_history_global = []\n",
    "    for i in trange(num_iters):\n",
    "        train_dataloader = DataLoader(train_dataset, batch_size=bptt, shuffle=True, num_workers=4)\n",
    "        test_dataloader = DataLoader(test_dataset, batch_size=4, shuffle=True)\n",
    "\n",
    "        test_labels, test_predictions, val_loss = evaluate(model, test_dataloader, criterion, \n",
    "                                                           int(len(test_dataloader)/10))\n",
    "        test_labels = np.array(test_labels).flatten()\n",
    "        \n",
    "        \n",
    "        preds = np.array(test_predictions).flatten()\n",
    "        print(f1_score(test_labels, preds, average='micro'))\n",
    "        \n",
    "        loss_history = train_loop(model, train_dataloader, i_number = int(len(train_dataloader)/num_iters), optimizer = optimizer)\n",
    "        loss_history_global.append(deepcopy(loss_history))\n",
    "        \n",
    "        evaluation_results.append((deepcopy(test_labels), deepcopy(preds)))\n",
    "        val_history_global.append(val_loss)\n",
    "        total_norm = 0\n",
    "        for p in model.parameters():\n",
    "            param_norm = p.grad.detach().data.norm(2)\n",
    "            total_norm += param_norm.item() ** 2\n",
    "            total_norm = total_norm ** 0.5\n",
    "\n",
    "        with open('{}_{}_history.pickle'.format(i,k),'wb') as f:\n",
    "            pickle.dump({'eval_res':evaluation_results,\"loss_hist\":loss_history,'grad':total_norm,\n",
    "                         'val_loss':val_history_global},f)\n",
    "        torch.save(model, '{}_{}_.model'.format(i,k))\n",
    "        \n",
    "    \n",
    "    del model\n",
    "    gc.collect()"
   ]
  },
  {
   "cell_type": "code",
   "execution_count": 57,
   "id": "605ee759",
   "metadata": {},
   "outputs": [],
   "source": [
    "# with open('train_dataset_preprocessed.pickle','wb') as f:\n",
    "#     pickle.dump(train_dataset, f)"
   ]
  },
  {
   "cell_type": "code",
   "execution_count": 33,
   "id": "907f28ef",
   "metadata": {},
   "outputs": [],
   "source": [
    "model = torch.load(\"9_2_.model\") # load last model from the last experiment"
   ]
  },
  {
   "cell_type": "code",
   "execution_count": 40,
   "id": "d5bff50c",
   "metadata": {
    "scrolled": true
   },
   "outputs": [
    {
     "data": {
      "application/vnd.jupyter.widget-view+json": {
       "model_id": "eb5b0ee3c29548d7be0c530dba5f5136",
       "version_major": 2,
       "version_minor": 0
      },
      "text/plain": [
       "  0%|          | 0/25629 [00:00<?, ?it/s]"
      ]
     },
     "metadata": {},
     "output_type": "display_data"
    }
   ],
   "source": [
    "from sklearn.metrics import classification_report\n",
    "test_dataloader = DataLoader(test_dataset, batch_size=4, shuffle=True)\n",
    "test_labels, test_predictions, val_loss = evaluate(model, test_dataloader, criterion ,len(test_dataloader))"
   ]
  },
  {
   "cell_type": "code",
   "execution_count": 53,
   "id": "6d913740",
   "metadata": {},
   "outputs": [],
   "source": [
    "test_labels_flatten = list(chain(*[x.tolist() for x in test_labels]))\n",
    "test_prediction_flatten = list(chain(*[x.tolist() for x in test_predictions]))"
   ]
  },
  {
   "cell_type": "code",
   "execution_count": 35,
   "id": "c728a520",
   "metadata": {},
   "outputs": [],
   "source": [
    "# test_labels = np.array(test_labels).flatten()\n",
    "# preds = np.array(test_predictions).flatten()"
   ]
  },
  {
   "cell_type": "code",
   "execution_count": 54,
   "id": "df04deff",
   "metadata": {},
   "outputs": [
    {
     "name": "stdout",
     "output_type": "stream",
     "text": [
      "              precision    recall  f1-score   support\n",
      "\n",
      "           0       0.87      0.82      0.84     51258\n",
      "           1       0.83      0.87      0.85     51257\n",
      "\n",
      "    accuracy                           0.85    102515\n",
      "   macro avg       0.85      0.85      0.85    102515\n",
      "weighted avg       0.85      0.85      0.85    102515\n",
      "\n"
     ]
    }
   ],
   "source": [
    "print(classification_report(test_labels_flatten, test_prediction_flatten))"
   ]
  },
  {
   "cell_type": "code",
   "execution_count": 61,
   "id": "0ada25a3",
   "metadata": {},
   "outputs": [],
   "source": [
    "import pandas as pd\n",
    "report = classification_report(test_labels_flatten, test_prediction_flatten, output_dict=True)\n",
    "df = pd.DataFrame(report).transpose()\n",
    "df.to_csv('report.csv',  float_format='%.3f')"
   ]
  },
  {
   "cell_type": "code",
   "execution_count": null,
   "id": "8d8ae56a",
   "metadata": {},
   "outputs": [],
   "source": []
  }
 ],
 "metadata": {
  "kernelspec": {
   "display_name": "Python 3 (ipykernel)",
   "language": "python",
   "name": "python3"
  },
  "language_info": {
   "codemirror_mode": {
    "name": "ipython",
    "version": 3
   },
   "file_extension": ".py",
   "mimetype": "text/x-python",
   "name": "python",
   "nbconvert_exporter": "python",
   "pygments_lexer": "ipython3",
   "version": "3.8.13"
  }
 },
 "nbformat": 4,
 "nbformat_minor": 5
}
