{
 "cells": [
  {
   "cell_type": "code",
   "execution_count": 1,
   "id": "0a061b51",
   "metadata": {},
   "outputs": [],
   "source": [
    "import torch\n",
    "from torch.utils.data import Dataset"
   ]
  },
  {
   "cell_type": "code",
   "execution_count": 3,
   "id": "b3a7411a",
   "metadata": {},
   "outputs": [],
   "source": [
    "train_dir, test_dir = \"holstep/train\", \"holstep/test\""
   ]
  },
  {
   "cell_type": "code",
   "execution_count": 4,
   "id": "e97454b7",
   "metadata": {},
   "outputs": [],
   "source": [
    "import os\n",
    "from itertools import chain\n",
    "\n",
    "class Theorem:\n",
    "    def __init__(self, filename, splitting_token = 'c/\\\\'):\n",
    "        assert os.path.exists(filename), \"Theorem file should exist!\"\n",
    "        with open(filename,'r') as f:\n",
    "            fl = [x.replace('\\n','') for x in f.readlines()]\n",
    "        self.theorem_name = fl[0].replace('N ','')\n",
    "        self.theorem_text = fl[1].replace('C ','')\n",
    "        self.theorem_token = fl[2].replace('T ','')\n",
    "        self.filename = filename\n",
    "        self.labels, self.intrm , self.dependencies, i = [], [], [], 3\n",
    "        self.longest_sequence = 0\n",
    "        self.nmb_splits = 0\n",
    "        self.splitting_token = splitting_token\n",
    "        while i<len(fl):\n",
    "            if fl[i].startswith('D'):\n",
    "                self.dependencies.append(fl[i+2].replace('T ','').split(' '))\n",
    "                i+=3\n",
    "            elif fl[i].startswith('+') or fl[i].startswith('-'):\n",
    "                self.intrm.append(fl[i+1].replace('T ','').split(' '))\n",
    "                self.longest_sequence = max(self.longest_sequence, len(self.intrm[-1]))\n",
    "                self.nmb_splits = max(self.nmb_splits, self.intrm[-1].count(self.splitting_token)+1)\n",
    "                self.labels.append(fl[i][0])\n",
    "                i+=2\n",
    "            else:\n",
    "                i+=1\n",
    "        self.dependencies_length = sum([len(x) for x in self.dependencies])\n",
    "        self.unique_tokens = set(chain(*self.dependencies)).union(set(chain(*self.intrm))).union(set(chain(*self.theorem_token)))\n",
    "        self.label_mapping = {'+':1,'-':0}\n",
    "\n",
    "#         self.intrm.append(self.theorem_token)\n",
    "#         self.labels.append('+')\n",
    "        \n",
    "    def __len__(self):\n",
    "        return len(self.intrm)\n",
    "    \n",
    "    def __str__(self):\n",
    "        return \"Name: {}, text: {}, token: {}\".format(self.theorem_name, self.theorem_text, self.theorem_token)\n",
    "    \n",
    "    def __repr__(self):\n",
    "        return self.__str__()\n",
    "    \n",
    "    def __getitem__(self, idx):\n",
    "        return self.intrm[idx], self.dependencies, self.label_mapping[self.labels[idx]]\n",
    "    "
   ]
  },
  {
   "cell_type": "code",
   "execution_count": 6,
   "id": "41040dcf",
   "metadata": {},
   "outputs": [],
   "source": [
    "import os \n",
    "import numpy as np\n",
    "from functools import reduce\n",
    "from tqdm.notebook import tqdm\n",
    "import torch.nn.functional as F\n",
    "from torch_scatter import scatter_add\n",
    "\n",
    "\n",
    "class HOLDataset(Dataset):\n",
    "    def __init__(self, path, verbose = False, dep_sep = 'SEPARATOR', \n",
    "                 null_token = 'NIHIL', intrm_dep_sep = 'SEPARATOR_INTRM', \n",
    "                 splitting_token = 'c/\\\\', emb_dim = 128, theorem_cutoff_size=1000, intrm_cutoff_size=500,\n",
    "                 intrm_splits = None, \n",
    "                 longest_dependencies = None, longest_intrm = None, longest_theorem = None, \n",
    "                 unique_tokens = None, dictionary = None\n",
    "                ):\n",
    "        self.theorems = []\n",
    "        if verbose == True: \n",
    "            pbar = tqdm(os.listdir(path))\n",
    "        else:\n",
    "            pbar = os.listdir(path)\n",
    "        for f in pbar:\n",
    "            t = Theorem(\"{}/{}\".format(path,f), splitting_token)\n",
    "            if len(t)!=0 and len(t.theorem_token)<=theorem_cutoff_size and t.longest_sequence<=intrm_cutoff_size:\n",
    "                if dictionary is None:\n",
    "                    self.theorems.append(t)\n",
    "                else:\n",
    "                    if t.unique_tokens.issubset(unique_tokens):\n",
    "                        self.theorems.append(t)\n",
    "        self.size = sum([len(x) for x in self.theorems])-1\n",
    "        self.cumulative_size = np.cumsum([len(x) for x in self.theorems])\n",
    "        self.cumulative_size = np.insert(self.cumulative_size,0,0)\n",
    "        \n",
    "        if intrm_splits is None:\n",
    "            self.intrm_splits = max([x.nmb_splits for x in self.theorems])+1\n",
    "        else:\n",
    "            self.intrm_splits = intrm_splits\n",
    "            \n",
    "        if longest_dependencies is None:\n",
    "            self.longest_dependencies = max([x.dependencies_length+len(x.dependencies) for x in self.theorems])\n",
    "        else:\n",
    "            self.longest_dependencies = longest_dependencies\n",
    "        \n",
    "        if longest_intrm is None:\n",
    "            self.longest_intrm = max([x.longest_sequence for x in self.theorems])\n",
    "        else:\n",
    "            self.longest_intrm = longest_intrm\n",
    "            \n",
    "        if longest_theorem is None:\n",
    "            self.longest_theorem = max([len(x.theorem_token) for x in self.theorems])\n",
    "        else:\n",
    "            self.longest_theorem = longest_theorem\n",
    "        \n",
    "        if unique_tokens is None:\n",
    "            self.unique_tokens = set().union(*[x.unique_tokens for x in self.theorems]) # also one new token to separate dependencies and NULL token\n",
    "        else:\n",
    "            self.unique_tokens = unique_tokens\n",
    "            \n",
    "        self.dep_sep, self.null_token, self.intrm_dep_sep = dep_sep, null_token, intrm_dep_sep\n",
    "        self.unique_tokens.add(self.dep_sep)\n",
    "        self.unique_tokens.add(self.intrm_dep_sep)\n",
    "        \n",
    "        self.split_token = splitting_token\n",
    "        \n",
    "        if dictionary is None:\n",
    "            self.dictionary = {x:i for i,x in enumerate(self.unique_tokens,1)}\n",
    "        else:\n",
    "            self.dictionary = dictionary\n",
    "        self.dictionary[self.null_token] = 0\n",
    "        self.unique_tokens.add(self.null_token)\n",
    "        \n",
    "    def __len__(self):\n",
    "        return self.size\n",
    "    \n",
    "    def encode_intrm(self, tokens):\n",
    "        return torch.tensor([self.dictionary[x] for x in tokens])\n",
    "    \n",
    "    def encode_dependencies(self, dependencies):\n",
    "        joined = reduce(lambda a,b:a + [self.dep_sep] + b, dependencies) # hate this function, but looks neat\n",
    "        return torch.tensor([self.dictionary[x] for x in joined])\n",
    "    \n",
    "    def __getitem__(self, idx):\n",
    "        theorem_index = np.argmax(self.cumulative_size > idx)-1\n",
    "        if theorem_index<0:\n",
    "            theorem_index=0\n",
    "        offset = self.cumulative_size[theorem_index]\n",
    "        theorem_offset = idx-offset\n",
    "        try:\n",
    "            intrm, deps, label = self.theorems[theorem_index][theorem_offset]\n",
    "        except Exception as inst:\n",
    "            print(idx, offset, theorem_offset, theorem_index)\n",
    "            raise inst\n",
    "        encoded_intrm = self.encode_intrm(intrm)\n",
    "        encoded_dep = self.encode_dependencies(deps)\n",
    "        padded_dep = F.pad(encoded_dep,(0,self.longest_dependencies-len(encoded_dep)),value = self.dictionary[self.null_token])\n",
    "        padded_intrm = F.pad(encoded_intrm, (0,self.longest_intrm-len(encoded_intrm)),value = self.dictionary[self.null_token])\n",
    "        \n",
    "        \n",
    "        splitted = self.encode_intrm(intrm)\n",
    "        indices = [i for i,x in enumerate(splitted) if x == self.dictionary[self.split_token]]\n",
    "        \n",
    "        \n",
    "        splitted = torch.split(splitted,\n",
    "                               tuple(np.diff([0]+indices+[len(splitted)])))\n",
    "        \n",
    "        splitted = torch.stack([F.pad(x,(0,self.longest_intrm-len(x)),value = self.dictionary[self.null_token])\n",
    "                   for x in splitted])\n",
    "        \n",
    "        null_sequence = [[self.dictionary[self.null_token] for x in range(self.longest_intrm)]]\n",
    "        padded_avgd = torch.Tensor([null_sequence for x in range(self.intrm_splits-len(splitted))]).long()\n",
    "        padded_avgd = torch.concat((splitted, padded_avgd.squeeze(1)))\n",
    "        \n",
    "        encoded_proof = self.encode_intrm(self.theorems[theorem_index].theorem_token)\n",
    "        padded_proof = F.pad(encoded_proof, (0,self.longest_theorem-len(encoded_proof)),value = self.dictionary[self.null_token])\n",
    "        \n",
    "        return {'intrm':padded_intrm, 'deps':padded_dep, \n",
    "                'intrm_dep_sep':self.dictionary[self.intrm_dep_sep] ,'label':label,\n",
    "               'splitted': padded_avgd, 'theorem':padded_proof}\n",
    "        "
   ]
  },
  {
   "cell_type": "code",
   "execution_count": 8,
   "id": "ba7e6246",
   "metadata": {},
   "outputs": [
    {
     "data": {
      "application/vnd.jupyter.widget-view+json": {
       "model_id": "42792f62196945f4beee44c352a10ea5",
       "version_major": 2,
       "version_minor": 0
      },
      "text/plain": [
       "  0%|          | 0/1411 [00:00<?, ?it/s]"
      ]
     },
     "metadata": {},
     "output_type": "display_data"
    }
   ],
   "source": [
    "train_dataset = HOLDataset(train_dir, verbose=True)\n"
   ]
  },
  {
   "cell_type": "code",
   "execution_count": 11,
   "id": "fd4933f6",
   "metadata": {},
   "outputs": [
    {
     "data": {
      "application/vnd.jupyter.widget-view+json": {
       "model_id": "ddc66dfa6e3749f99966d79505e181de",
       "version_major": 2,
       "version_minor": 0
      },
      "text/plain": [
       "  0%|          | 0/1411 [00:00<?, ?it/s]"
      ]
     },
     "metadata": {},
     "output_type": "display_data"
    }
   ],
   "source": [
    "test_dataset = HOLDataset(test_dir, verbose=True, intrm_splits = train_dataset.intrm_splits, \n",
    "                 longest_dependencies = train_dataset.longest_dependencies, longest_intrm = train_dataset.longest_intrm, \n",
    "                          longest_theorem = train_dataset.longest_theorem, \n",
    "                 unique_tokens = train_dataset.unique_tokens, dictionary = train_dataset.dictionary)"
   ]
  },
  {
   "cell_type": "code",
   "execution_count": 13,
   "id": "023c5513",
   "metadata": {},
   "outputs": [],
   "source": [
    "import math\n",
    "from torch import nn, Tensor\n",
    "# from example from PyTorch documentation\n",
    "class PositionalEncoding(nn.Module):\n",
    "\n",
    "    def __init__(self, d_model: int, dropout: float = 0.1, max_len: int = 5000):\n",
    "        super().__init__()\n",
    "        self.dropout = nn.Dropout(p=dropout)\n",
    "\n",
    "        position = torch.arange(max_len).unsqueeze(1)\n",
    "        div_term = torch.exp(torch.arange(0, d_model, 2) * (-math.log(10000.0) / d_model))\n",
    "        pe = torch.zeros(max_len, 1, d_model)\n",
    "        pe[:, 0, 0::2] = torch.sin(position * div_term)\n",
    "        pe[:, 0, 1::2] = torch.cos(position * div_term)\n",
    "        self.register_buffer('pe', pe)\n",
    "\n",
    "    def forward(self, x: Tensor) -> Tensor:\n",
    "        \"\"\"\n",
    "        Args:\n",
    "            x: Tensor, shape [seq_len, batch_size, embedding_dim]\n",
    "        \"\"\"\n",
    "        x = x + self.pe[:x.size(0)]\n",
    "        return self.dropout(x)"
   ]
  },
  {
   "cell_type": "code",
   "execution_count": 15,
   "id": "6339de1a",
   "metadata": {},
   "outputs": [],
   "source": [
    "from torch.nn import TransformerEncoder, TransformerEncoderLayer\n",
    "\n",
    "class TransformerModelMI(nn.Module):\n",
    "\n",
    "    def __init__(self, ntoken: int, d_model: int, nhead: int, d_hid: int,\n",
    "                 nlayers: int, null_token:int, \n",
    "                 max_length_i: int, \n",
    "                 max_length_d: int,\n",
    "                 max_length_a: int,\n",
    "                 max_length_proof:int,\n",
    "                 dropout: float = 0.5, output_classes: int=2):\n",
    "        super().__init__()\n",
    "        self.model_type = 'Transformer'\n",
    "        self.pos_encoder = PositionalEncoding(d_model, dropout)\n",
    "        encoder_layers = TransformerEncoderLayer(d_model, nhead, d_hid, dropout, batch_first=True)\n",
    "        \n",
    "        avg_layers = TransformerEncoderLayer(d_model, nhead, d_hid, dropout, batch_first=True)\n",
    "        proof_layers = TransformerEncoderLayer(d_model, nhead, d_hid, dropout, batch_first=True)\n",
    "        \n",
    "        self.transformer_encoder = TransformerEncoder(encoder_layers, nlayers)\n",
    "        self.transformer_avg_encoder = TransformerEncoder(avg_layers, nlayers)\n",
    "        \n",
    "        self.proof_encoder = TransformerEncoder(proof_layers, nlayers)\n",
    "        \n",
    "        self.encoder = nn.Embedding(ntoken, d_model)\n",
    "        \n",
    "        self.d_model = d_model\n",
    "        self.null_token = null_token\n",
    "        self.d_hid = d_hid\n",
    "        \n",
    "        self.max_length_i = max_length_i\n",
    "        self.max_length_d = max_length_d\n",
    "        self.max_length_a = max_length_a\n",
    "        self.max_length_proof = max_length_proof\n",
    "        \n",
    "        self.decoder_gru = nn.LSTM(d_model, d_hid, batch_first=True, bidirectional=True, num_layers=nlayers)\n",
    "        self.decoder_final = nn.Linear(2*nlayers*d_hid*2, output_classes)\n",
    "        self.init_weights()\n",
    "\n",
    "    def init_weights(self):\n",
    "        initrange = 0.1\n",
    "        self.encoder.weight.data.uniform_(-initrange, initrange)\n",
    "        \n",
    "        \n",
    "    def forward(self, src: Tensor, dependencies:Tensor, splitted: Tensor, proof: Tensor, src_mask: Tensor,\n",
    "               src_mask_avg:Tensor, src_mask_proof:Tensor):\n",
    "\n",
    "        averaged = self.encoder(splitted) * math.sqrt(self.d_model)\n",
    "        averaged = torch.mean(averaged, axis=2)\n",
    "        output_a = self.transformer_avg_encoder(averaged, src_mask_avg)\n",
    "        output_a = self.pos_encoder(output_a)\n",
    "        \n",
    "        proof = self.encoder(proof) * math.sqrt(self.d_model)\n",
    "        proof = self.pos_encoder(proof)\n",
    "        proof = self.proof_encoder(proof, src_mask_proof)\n",
    "        \n",
    "        padding_mask = src==0\n",
    "        src = self.encoder(src) * math.sqrt(self.d_model)\n",
    "        src = self.pos_encoder(src)\n",
    "        output = self.transformer_encoder(src, src_key_padding_mask=padding_mask)\n",
    "        output = torch.concat((output, output_a, proof), axis=1)\n",
    "        _, (output_h, output_c) = self.decoder_gru(output)\n",
    "        output_h = torch.transpose(output_h, 1, 0)\n",
    "        output_c = torch.transpose(output_c, 1, 0)\n",
    "        output = torch.concat((output_c, output_h), axis=1)\n",
    "        output = nn.LeakyReLU()(output)\n",
    "        output = output.flatten(start_dim=1)\n",
    "        output = nn.Softmax(dim=1)(self.decoder_final(output))\n",
    "        return output"
   ]
  },
  {
   "cell_type": "code",
   "execution_count": 16,
   "id": "8e4413f0",
   "metadata": {},
   "outputs": [],
   "source": [
    "# train_dataset"
   ]
  },
  {
   "cell_type": "code",
   "execution_count": 17,
   "id": "0fafb5a0",
   "metadata": {},
   "outputs": [],
   "source": [
    "device = torch.device('cpu')\n",
    "\n",
    "ntokens = len(train_dataset.unique_tokens)  # size of vocabulary\n",
    "emsize = 64  # embedding dimension\n",
    "d_hid = 128  # dimension of the feedforward network model in nn.TransformerEncoder\n",
    "nlayers = 1  # number of nn.TransformerEncoderLayer in nn.TransformerEncoder\n",
    "nhead = 2  # number of heads in 4nn.MultiheadAttention\n",
    "dropout = 0.2  # dropout probability\n",
    "model = TransformerModelMI(ntokens, emsize, nhead, d_hid, nlayers, train_dataset.dictionary[train_dataset.null_token] ,\n",
    "                             max_length_i = train_dataset.longest_dependencies, \n",
    "                             max_length_d = train_dataset.longest_intrm,\n",
    "                             max_length_a = train_dataset.intrm_splits,\n",
    "                           max_length_proof = train_dataset.longest_theorem,\n",
    "                           dropout=dropout,output_classes=2).to(device)\n",
    "\n",
    "criterion = nn.CrossEntropyLoss()\n",
    "lr = 0.001  # learning rate\n",
    "optimizer = torch.optim.Adam(model.parameters(), lr=lr)\n"
   ]
  },
  {
   "cell_type": "code",
   "execution_count": 18,
   "id": "694aaaf6",
   "metadata": {},
   "outputs": [],
   "source": [
    "def generate_square_subsequent_mask(sz: int):\n",
    "    \"\"\"Generates an upper-triangular matrix of -inf, with zeros on diag.\"\"\"\n",
    "    return torch.triu(torch.ones(sz, sz) * float('-inf'), diagonal=1)"
   ]
  },
  {
   "cell_type": "code",
   "execution_count": 19,
   "id": "6942bfef",
   "metadata": {},
   "outputs": [],
   "source": [
    "from torch.utils.data import DataLoader\n",
    "\n",
    "bptt = 64\n",
    "# bptt = 1\n",
    "\n",
    "train_dataloader = DataLoader(train_dataset, batch_size=bptt, shuffle=True, num_workers=4)\n",
    "test_dataloader = DataLoader(test_dataset, batch_size=2, shuffle=True)"
   ]
  },
  {
   "cell_type": "code",
   "execution_count": 58,
   "id": "d1bb4438",
   "metadata": {},
   "outputs": [],
   "source": [
    "import time\n",
    "from sklearn.metrics import f1_score\n",
    "\n",
    "def train_loop(model, dataloader, optimizer, i_number):\n",
    "    size = len(dataloader)\n",
    "    model.train()  # turn on train mode\n",
    "    total_loss = 0.\n",
    "    log_interval = 500\n",
    "    start_time = time.time()\n",
    "    src_mask = generate_square_subsequent_mask(dataloader.dataset.longest_intrm).to(device)\n",
    "    src_mask_avg = generate_square_subsequent_mask(dataloader.dataset.intrm_splits).to(device)\n",
    "    src_mask_proof = generate_square_subsequent_mask(dataloader.dataset.longest_theorem).to(device)\n",
    "    \n",
    "    loss_history = []\n",
    "    pbar = tqdm(dataloader, total = i_number)\n",
    "    for batch, train_data in enumerate(pbar):\n",
    "        batch_size = train_data['intrm'].size(0)\n",
    "        X = train_data['intrm'].to(device)\n",
    "        dep_intrm_vector = train_data['intrm_dep_sep'].to(device)\n",
    "        y = train_data['label'].to(device).long()\n",
    "        splitted = train_data['splitted'].to(device).long()\n",
    "        deps = train_data['deps'].to(device)\n",
    "        proof = train_data['theorem'].to(device)\n",
    "        optimizer.zero_grad()\n",
    "        output = model(X, deps, splitted, proof, src_mask, src_mask_avg, src_mask_proof)\n",
    "        loss = criterion(output, y)#.float())\n",
    "        \n",
    "        if batch % 5 == 0:\n",
    "            pbar.set_description(\"{:.2f}\".format(f1_score(y.cpu().numpy(), output.argmax(axis=1).cpu().numpy(), average='micro'))) \n",
    "        \n",
    "        \n",
    "        loss.backward()\n",
    "        optimizer.step()\n",
    "        torch.nn.utils.clip_grad_norm_(model.parameters(), 0.005)\n",
    "\n",
    "        if batch == i_number:\n",
    "            return loss_history\n",
    "\n",
    "        total_loss += loss.item()\n",
    "        \n",
    "        if batch % log_interval == 0 and batch > 0:\n",
    "            ms_per_batch = (time.time() - start_time) * 1000 / log_interval\n",
    "            cur_loss = total_loss / log_interval\n",
    "            loss_history.append(cur_loss)\n",
    "            rolling_loss = np.mean(loss_history[-5:])\n",
    "            try:\n",
    "                ppl = math.exp(cur_loss)\n",
    "            except Exception as inst:\n",
    "                ppl = float('inf')\n",
    "            print(f'| {batch:5d}/{size:5d} batches | {rolling_loss:5.2} rolling loss |'\n",
    "                  f'ms/batch {ms_per_batch:5.2f} | '\n",
    "                  f'loss {cur_loss:5.2f} | ppl {ppl:8.2f}')\n",
    "            total_loss = 0\n",
    "            start_time = time.time()\n",
    "\n",
    "    return loss_history    \n"
   ]
  },
  {
   "cell_type": "code",
   "execution_count": null,
   "id": "d1d529f3",
   "metadata": {},
   "outputs": [],
   "source": []
  },
  {
   "cell_type": "code",
   "execution_count": 59,
   "id": "90aba198",
   "metadata": {},
   "outputs": [],
   "source": [
    "def evaluate(model, dataloader, test_size=10):\n",
    "    model.eval()\n",
    "    labels = []\n",
    "    predictions = []\n",
    "    src_mask = generate_square_subsequent_mask(dataloader.dataset.longest_intrm).to(device)\n",
    "    src_mask_avg = generate_square_subsequent_mask(dataloader.dataset.intrm_splits).to(device)\n",
    "    src_mask_proof = generate_square_subsequent_mask(dataloader.dataset.longest_theorem).to(device)\n",
    "    for i, test_data in enumerate(tqdm(dataloader, total = test_size)):\n",
    "        batch_size = test_data['intrm'].size(0)\n",
    "        X = test_data['intrm'].to(device)\n",
    "        dep_intrm_vector = test_data['intrm_dep_sep'].to(device)\n",
    "        y = test_data['label'].to(device).long()\n",
    "        splitted = test_data['splitted'].to(device).long()\n",
    "        deps = test_data['deps'].to(device)\n",
    "        proof = test_data['theorem'].to(device)\n",
    "        output = model(X, deps, splitted, proof, src_mask, src_mask_avg, src_mask_proof)\n",
    "        labels.append(y.cpu().numpy())        \n",
    "        predictions.append(output.argmax(axis=1).cpu().numpy())\n",
    "        \n",
    "        if i>=test_size:\n",
    "            return labels, predictions\n",
    "    return labels, predictions"
   ]
  },
  {
   "cell_type": "code",
   "execution_count": 61,
   "id": "9054b583",
   "metadata": {
    "scrolled": true
   },
   "outputs": [
    {
     "data": {
      "application/vnd.jupyter.widget-view+json": {
       "model_id": "20ac7a1b667e48439e80a847ce53cd7f",
       "version_major": 2,
       "version_minor": 0
      },
      "text/plain": [
       "  0%|          | 0/10 [00:00<?, ?it/s]"
      ]
     },
     "metadata": {},
     "output_type": "display_data"
    },
    {
     "name": "stdout",
     "output_type": "stream",
     "text": [
      "              precision    recall  f1-score   support\n",
      "\n",
      "           0       0.52      0.97      0.67        92\n",
      "           1       0.25      0.01      0.02        84\n",
      "\n",
      "    accuracy                           0.51       176\n",
      "   macro avg       0.38      0.49      0.35       176\n",
      "weighted avg       0.39      0.51      0.36       176\n",
      "\n"
     ]
    }
   ],
   "source": [
    "from sklearn.metrics import classification_report\n",
    "test_dataloader = DataLoader(test_dataset, batch_size=16, shuffle=True)\n",
    "test_labels, test_predictions = evaluate(model, test_dataloader, 10)\n",
    "test_labels = np.array(test_labels).flatten()\n",
    "preds = np.array(test_predictions).flatten()\n",
    "print(classification_report(test_labels, preds))\n"
   ]
  },
  {
   "cell_type": "code",
   "execution_count": 68,
   "id": "5456575b",
   "metadata": {},
   "outputs": [
    {
     "data": {
      "text/plain": [
       "6408"
      ]
     },
     "execution_count": 68,
     "metadata": {},
     "output_type": "execute_result"
    }
   ],
   "source": [
    "len(test_dataloader)"
   ]
  },
  {
   "cell_type": "code",
   "execution_count": null,
   "id": "8c5197ea",
   "metadata": {
    "scrolled": true
   },
   "outputs": [
    {
     "data": {
      "application/vnd.jupyter.widget-view+json": {
       "model_id": "93313d785a4e48828c178cc4a87b30b5",
       "version_major": 2,
       "version_minor": 0
      },
      "text/plain": [
       "  0%|          | 0/10 [00:00<?, ?it/s]"
      ]
     },
     "metadata": {},
     "output_type": "display_data"
    },
    {
     "data": {
      "application/vnd.jupyter.widget-view+json": {
       "model_id": "a89a8c59fa6749ac8c49bc5f9c2fead1",
       "version_major": 2,
       "version_minor": 0
      },
      "text/plain": [
       "  0%|          | 0/10 [00:00<?, ?it/s]"
      ]
     },
     "metadata": {},
     "output_type": "display_data"
    },
    {
     "data": {
      "application/vnd.jupyter.widget-view+json": {
       "model_id": "52a282b8f7354371b32fc2b00885cb36",
       "version_major": 2,
       "version_minor": 0
      },
      "text/plain": [
       "  0%|          | 0/1281 [00:00<?, ?it/s]"
      ]
     },
     "metadata": {},
     "output_type": "display_data"
    },
    {
     "name": "stdout",
     "output_type": "stream",
     "text": [
      "0.5039001560062403\n"
     ]
    },
    {
     "data": {
      "application/vnd.jupyter.widget-view+json": {
       "model_id": "dbb1836245ef461b864ae9babba4aa70",
       "version_major": 2,
       "version_minor": 0
      },
      "text/plain": [
       "  0%|          | 0/1807 [00:00<?, ?it/s]"
      ]
     },
     "metadata": {},
     "output_type": "display_data"
    },
    {
     "name": "stdout",
     "output_type": "stream",
     "text": [
      "|   500/18078 batches |  0.63 rolling loss |ms/batch 304.09 | loss  0.63 | ppl     1.88\n",
      "|  1000/18078 batches |  0.61 rolling loss |ms/batch 336.50 | loss  0.59 | ppl     1.80\n",
      "|  1500/18078 batches |  0.59 rolling loss |ms/batch 342.04 | loss  0.56 | ppl     1.76\n"
     ]
    },
    {
     "data": {
      "application/vnd.jupyter.widget-view+json": {
       "model_id": "39957920e9214f4c963a02904864beb7",
       "version_major": 2,
       "version_minor": 0
      },
      "text/plain": [
       "  0%|          | 0/1281 [00:00<?, ?it/s]"
      ]
     },
     "metadata": {},
     "output_type": "display_data"
    },
    {
     "name": "stdout",
     "output_type": "stream",
     "text": [
      "0.749414976599064\n"
     ]
    },
    {
     "data": {
      "application/vnd.jupyter.widget-view+json": {
       "model_id": "155ad492e8ba4cfd8ebf8656ac62db57",
       "version_major": 2,
       "version_minor": 0
      },
      "text/plain": [
       "  0%|          | 0/1807 [00:00<?, ?it/s]"
      ]
     },
     "metadata": {},
     "output_type": "display_data"
    },
    {
     "name": "stdout",
     "output_type": "stream",
     "text": [
      "|   500/18078 batches |  0.55 rolling loss |ms/batch 333.22 | loss  0.55 | ppl     1.73\n",
      "|  1000/18078 batches |  0.54 rolling loss |ms/batch 334.89 | loss  0.54 | ppl     1.71\n",
      "|  1500/18078 batches |  0.54 rolling loss |ms/batch 337.35 | loss  0.53 | ppl     1.70\n"
     ]
    },
    {
     "data": {
      "application/vnd.jupyter.widget-view+json": {
       "model_id": "04d21283de054839afe39836e0b09e50",
       "version_major": 2,
       "version_minor": 0
      },
      "text/plain": [
       "  0%|          | 0/1281 [00:00<?, ?it/s]"
      ]
     },
     "metadata": {},
     "output_type": "display_data"
    },
    {
     "name": "stdout",
     "output_type": "stream",
     "text": [
      "0.795534321372855\n"
     ]
    },
    {
     "data": {
      "application/vnd.jupyter.widget-view+json": {
       "model_id": "7045a4f5aaa541f5a4cce0166721f7df",
       "version_major": 2,
       "version_minor": 0
      },
      "text/plain": [
       "  0%|          | 0/1807 [00:00<?, ?it/s]"
      ]
     },
     "metadata": {},
     "output_type": "display_data"
    }
   ],
   "source": [
    "from copy import deepcopy\n",
    "from tqdm.notebook import trange\n",
    "from sklearn.metrics import f1_score\n",
    "import pickle\n",
    "\n",
    "num_epochs = 1\n",
    "loss_history_global = []\n",
    "evaluation_results = []\n",
    "num_iters = 10\n",
    "experiments = 3\n",
    "for k in trange(experiments):\n",
    "    for i in trange(num_epochs):\n",
    "        train_dataloader = DataLoader(train_dataset, batch_size=bptt, shuffle=True, num_workers=4)\n",
    "        test_dataloader = DataLoader(test_dataset, batch_size=4, shuffle=True)\n",
    "\n",
    "        for j in trange(num_iters):    \n",
    "            test_labels, test_predictions = evaluate(model, test_dataloader, int(len(test_dataloader)/20))\n",
    "            test_labels = np.array(test_labels).flatten()\n",
    "            preds = np.array(test_predictions).flatten()\n",
    "            print(f1_score(test_labels, preds, average='micro'))\n",
    "            loss_history = train_loop(model, train_dataloader, i_number = int(len(train_dataloader)/num_iters), optimizer = optimizer)\n",
    "            loss_history_global.append(deepcopy(loss_history))\n",
    "            evaluation_results.append((test_labels, preds))\n",
    "            with open('{}_{}_{}_history.pickle'.format(i,j,k),'wb') as f:\n",
    "                pickle.dump({'eval_res':evaluation_results,\"loss_hist\":loss_history},f)\n",
    "            torch.save(model, '{}_{}_{}_.model'.format(i,j,k))"
   ]
  }
 ],
 "metadata": {
  "kernelspec": {
   "display_name": "Python 3 (ipykernel)",
   "language": "python",
   "name": "python3"
  },
  "language_info": {
   "codemirror_mode": {
    "name": "ipython",
    "version": 3
   },
   "file_extension": ".py",
   "mimetype": "text/x-python",
   "name": "python",
   "nbconvert_exporter": "python",
   "pygments_lexer": "ipython3",
   "version": "3.8.13"
  }
 },
 "nbformat": 4,
 "nbformat_minor": 5
}
