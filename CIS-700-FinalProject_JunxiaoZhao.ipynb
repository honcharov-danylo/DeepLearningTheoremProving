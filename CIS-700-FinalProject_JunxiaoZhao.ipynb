{
 "cells": [
  {
   "cell_type": "code",
   "execution_count": 1,
   "id": "0a061b51",
   "metadata": {},
   "outputs": [],
   "source": [
    "import os\n",
    "import torch\n",
    "import math\n",
    "import typing\n",
    "import time\n",
    "from torch.utils.data import Dataset\n",
    "from torch_scatter import scatter_max\n",
    "from torch.utils.data import DataLoader\n",
    "from torch import nn, Tensor\n",
    "from torch.nn import TransformerEncoder, TransformerEncoderLayer\n",
    "from itertools import chain\n",
    "import numpy as np\n",
    "from functools import reduce\n",
    "from tqdm.notebook import tqdm\n",
    "import torch.nn.functional as F\n",
    "from torch_scatter import scatter_add\n",
    "from sklearn.metrics import f1_score\n",
    "\n",
    "\n"
   ]
  },
  {
   "cell_type": "code",
   "execution_count": 2,
   "id": "7f81c7e6",
   "metadata": {},
   "outputs": [
    {
     "name": "stderr",
     "output_type": "stream",
     "text": [
      "'ls' is not recognized as an internal or external command,\n",
      "operable program or batch file.\n"
     ]
    }
   ],
   "source": [
    "!ls holstep"
   ]
  },
  {
   "cell_type": "code",
   "execution_count": 3,
   "id": "b3a7411a",
   "metadata": {},
   "outputs": [],
   "source": [
    "#Import the dataset\n",
    "train_dir = r\"C:\\Users\\user\\Downloads\\hol\\holstep\\holstep\\train\"\n",
    "test_dir = r\"C:\\Users\\user\\Downloads\\hol\\holstep\\holstep\\test\""
   ]
  },
  {
   "cell_type": "code",
   "execution_count": 4,
   "id": "285764f4",
   "metadata": {},
   "outputs": [
    {
     "name": "stdout",
     "output_type": "stream",
     "text": [
      "Using device: cuda\n",
      "\n",
      "NVIDIA GeForce RTX 2080 SUPER\n",
      "Memory Usage:\n",
      "Allocated: 0.0 GB\n",
      "Cached:    0.0 GB\n"
     ]
    }
   ],
   "source": [
    "#Device check\n",
    "device = torch.device('cuda' if torch.cuda.is_available() else 'cpu')\n",
    "print('Using device:', device)\n",
    "print()\n",
    "\n",
    "if device.type == 'cuda':\n",
    "    print(torch.cuda.get_device_name(0))\n",
    "    print('Memory Usage:')\n",
    "    print('Allocated:', round(torch.cuda.memory_allocated(0)/1024**3,1), 'GB')\n",
    "    print('Cached:   ', round(torch.cuda.memory_reserved(0)/1024**3,1), 'GB')"
   ]
  },
  {
   "cell_type": "code",
   "execution_count": 5,
   "id": "b2c80968",
   "metadata": {},
   "outputs": [],
   "source": [
    "# print(torch.__version__)\n",
    "# Version check on CUDA and pytorch\n",
    "# Noticable bugs have been fixed later related to library problem"
   ]
  },
  {
   "cell_type": "code",
   "execution_count": 6,
   "id": "e97454b7",
   "metadata": {},
   "outputs": [],
   "source": [
    "class Theorem:\n",
    "    def __init__(self, filename, splitting_token = 'c/\\\\'):\n",
    "        assert os.path.exists(filename), \"Theorem file should exist!\"\n",
    "        with open(filename,'r') as f:\n",
    "            fl = [x.replace('\\n','') for x in f.readlines()]\n",
    "        self.theorem_name = fl[0].replace('N ','')\n",
    "        self.theorem_text = fl[1].replace('C ','')\n",
    "        self.theorem_token = fl[2].replace('T ','')\n",
    "        self.filename = filename\n",
    "        self.labels, self.intrm , self.dependencies, i = [], [], [], 3\n",
    "        self.longest_sequence = 0\n",
    "        self.nmb_splits = 0\n",
    "        self.splitting_token = splitting_token\n",
    "        while i<len(fl):\n",
    "            if fl[i].startswith('D'):\n",
    "                self.dependencies.append(fl[i+2].replace('T ','').split(' '))\n",
    "                i+=3\n",
    "            elif fl[i].startswith('+') or fl[i].startswith('-'):\n",
    "                self.intrm.append(fl[i+1].replace('T ','').split(' '))\n",
    "                self.longest_sequence = max(self.longest_sequence, len(self.intrm[-1]))\n",
    "                self.nmb_splits = max(self.nmb_splits, self.intrm[-1].count(self.splitting_token)+1)\n",
    "                self.labels.append(fl[i][0])\n",
    "                i+=2\n",
    "            else:\n",
    "                i+=1\n",
    "        self.dependencies_length = sum([len(x) for x in self.dependencies])\n",
    "        self.unique_tokens = set(chain(*self.dependencies)).union(set(chain(*self.intrm))).union(set(chain(*self.theorem_token)))\n",
    "        self.label_mapping = {'+':1,'-':0}\n",
    "\n",
    "#         self.intrm.append(self.theorem_token)\n",
    "        \n",
    "    def __len__(self):\n",
    "        return len(self.intrm)\n",
    "    \n",
    "    def __str__(self):\n",
    "        return \"Name: {}, text: {}, token: {}\".format(self.theorem_name, self.theorem_text, self.theorem_token)\n",
    "    \n",
    "    def __repr__(self):\n",
    "        return self.__str__()\n",
    "    \n",
    "    def __getitem__(self, idx):\n",
    "        return self.intrm[idx], self.dependencies, self.label_mapping[self.labels[idx]]\n",
    "    "
   ]
  },
  {
   "cell_type": "code",
   "execution_count": 7,
   "id": "41040dcf",
   "metadata": {},
   "outputs": [],
   "source": [
    "class HOLDataset(Dataset):\n",
    "    def __init__(self, path, verbose = False, dep_sep = 'SEPARATOR', \n",
    "                 null_token = 'NIHIL', intrm_dep_sep = 'SEPARATOR_INTRM', \n",
    "                 splitting_token = 'c/\\\\', emb_dim = 128, theorem_cutoff_size=1000, intrm_cutoff_size=500,\n",
    "                 intrm_splits = None, \n",
    "                 longest_dependencies = None, longest_intrm = None, longest_theorem = None, \n",
    "                 unique_tokens = None, dictionary = None\n",
    "                ):\n",
    "        self.theorems = []\n",
    "        if verbose == True: \n",
    "            pbar = tqdm(os.listdir(path))\n",
    "        else:\n",
    "            pbar = os.listdir(path)\n",
    "        for f in pbar:\n",
    "            t = Theorem(\"{}/{}\".format(path,f), splitting_token)\n",
    "            if len(t)!=0 and len(t.theorem_token)<=theorem_cutoff_size and t.longest_sequence<=intrm_cutoff_size:\n",
    "                if dictionary is None:\n",
    "                    self.theorems.append(t)\n",
    "                else:\n",
    "                    if t.unique_tokens.issubset(unique_tokens):\n",
    "                        self.theorems.append(t)\n",
    "        self.size = sum([len(x) for x in self.theorems])-1\n",
    "        self.cumulative_size = np.cumsum([len(x) for x in self.theorems])\n",
    "        self.cumulative_size = np.insert(self.cumulative_size,0,0)\n",
    "        \n",
    "        if intrm_splits is None:\n",
    "            self.intrm_splits = max([x.nmb_splits for x in self.theorems])+1\n",
    "        else:\n",
    "            self.intrm_splits = intrm_splits\n",
    "            \n",
    "        if longest_dependencies is None:\n",
    "            self.longest_dependencies = max([x.dependencies_length+len(x.dependencies) for x in self.theorems])\n",
    "        else:\n",
    "            self.longest_dependencies = longest_dependencies\n",
    "        \n",
    "        if longest_intrm is None:\n",
    "            self.longest_intrm = max([x.longest_sequence for x in self.theorems])\n",
    "        else:\n",
    "            self.longest_intrm = longest_intrm\n",
    "            \n",
    "        if longest_theorem is None:\n",
    "            self.longest_theorem = max([len(x.theorem_token) for x in self.theorems])\n",
    "        else:\n",
    "            self.longest_theorem = longest_theorem\n",
    "        \n",
    "        if unique_tokens is None:\n",
    "            self.unique_tokens = set().union(*[x.unique_tokens for x in self.theorems]) # also one new token to separate dependencies and NULL token\n",
    "        else:\n",
    "            self.unique_tokens = unique_tokens\n",
    "            \n",
    "#         assert dep_sep not in self.unique_tokens, \"Dependency separator should be unique!\"\n",
    "#         assert null_token not in self.unique_tokens, \"NULL token should be unique!\"\n",
    "#         assert intrm_dep_sep not in self.unique_tokens, \"Dep_intrm separator should be unique!\"\n",
    "        self.dep_sep, self.null_token, self.intrm_dep_sep = dep_sep, null_token, intrm_dep_sep\n",
    "        self.unique_tokens.add(self.dep_sep)\n",
    "#         self.unique_tokens.add(self.null_token)\n",
    "        self.unique_tokens.add(self.intrm_dep_sep)\n",
    "        \n",
    "        self.split_token = splitting_token\n",
    "        \n",
    "#         self.encoder_avg = torch.nn.Embedding(len(self.unique_tokens), emb_dim)\n",
    "        if dictionary is None:\n",
    "            self.dictionary = {x:i for i,x in enumerate(self.unique_tokens,1)}\n",
    "        else:\n",
    "            self.dictionary = dictionary\n",
    "        self.dictionary[self.null_token] = 0\n",
    "        self.unique_tokens.add(self.null_token)\n",
    "        \n",
    "    def __len__(self):\n",
    "        return self.size\n",
    "    \n",
    "    def encode_intrm(self, tokens):\n",
    "        return torch.tensor([self.dictionary[x] for x in tokens])\n",
    "    \n",
    "    def encode_dependencies(self, dependencies):\n",
    "        joined = reduce(lambda a,b:a + [self.dep_sep] + b, dependencies) # hate this function, but looks neat\n",
    "        return torch.tensor([self.dictionary[x] for x in joined])\n",
    "    \n",
    "    def __getitem__(self, idx):\n",
    "        theorem_index = np.argmax(self.cumulative_size > idx)-1\n",
    "        if theorem_index<0:\n",
    "            theorem_index=0\n",
    "        offset = self.cumulative_size[theorem_index]\n",
    "        theorem_offset = idx-offset\n",
    "        try:\n",
    "            intrm, deps, label = self.theorems[theorem_index][theorem_offset]\n",
    "        except Exception as inst:\n",
    "            print(idx, offset, theorem_offset, theorem_index)\n",
    "            raise inst\n",
    "        encoded_intrm = self.encode_intrm(intrm)\n",
    "        encoded_dep = self.encode_dependencies(deps)\n",
    "        padded_dep = F.pad(encoded_dep,(0,self.longest_dependencies-len(encoded_dep)),value = self.dictionary[self.null_token])\n",
    "        padded_intrm = F.pad(encoded_intrm, (0,self.longest_intrm-len(encoded_intrm)),value = self.dictionary[self.null_token])\n",
    "        \n",
    "        \n",
    "        splitted = self.encode_intrm(intrm)\n",
    "        indices = [i for i,x in enumerate(splitted) if x == self.dictionary[self.split_token]]\n",
    "        \n",
    "        splitted = torch.split(splitted,\n",
    "                               tuple(np.diff([0]+indices+[len(splitted)])))\n",
    "        splitted = torch.stack([F.pad(x,(0,self.longest_intrm-len(x)),value = self.dictionary[self.null_token])\n",
    "                   for x in splitted])\n",
    "        null_sequence = [[self.dictionary[self.null_token] for x in range(self.longest_intrm)]]\n",
    "        padded_avgd = torch.Tensor([null_sequence for x in range(self.intrm_splits-len(splitted))]).long()\n",
    "        padded_avgd = torch.concat((splitted, padded_avgd.squeeze(1)))\n",
    "        encoded_proof = self.encode_intrm(self.theorems[theorem_index].theorem_token)\n",
    "        padded_proof = F.pad(encoded_proof, (0,self.longest_theorem-len(encoded_proof)),value = self.dictionary[self.null_token])\n",
    "        return {'intrm':padded_intrm, 'deps':padded_dep, \n",
    "                'intrm_dep_sep':self.dictionary[self.intrm_dep_sep] ,'label':label,\n",
    "               'splitted': padded_avgd, 'theorem':padded_proof}\n",
    "        "
   ]
  },
  {
   "cell_type": "code",
   "execution_count": 8,
   "id": "ba7e6246",
   "metadata": {},
   "outputs": [
    {
     "data": {
      "application/vnd.jupyter.widget-view+json": {
       "model_id": "0ddfe4ee6d8f4c29b0e167b51faa1390",
       "version_major": 2,
       "version_minor": 0
      },
      "text/plain": [
       "  0%|          | 0/9999 [00:00<?, ?it/s]"
      ]
     },
     "metadata": {},
     "output_type": "display_data"
    }
   ],
   "source": [
    "train_dataset = HOLDataset(train_dir, verbose=True)"
   ]
  },
  {
   "cell_type": "code",
   "execution_count": 9,
   "id": "fd4933f6",
   "metadata": {},
   "outputs": [
    {
     "data": {
      "application/vnd.jupyter.widget-view+json": {
       "model_id": "5b2e433dd3a049538df8d20f2994789c",
       "version_major": 2,
       "version_minor": 0
      },
      "text/plain": [
       "  0%|          | 0/1411 [00:00<?, ?it/s]"
      ]
     },
     "metadata": {},
     "output_type": "display_data"
    }
   ],
   "source": [
    "test_dataset = HOLDataset(test_dir, verbose=True, intrm_splits = train_dataset.intrm_splits, \n",
    "                 longest_dependencies = train_dataset.longest_dependencies, longest_intrm = train_dataset.longest_intrm, \n",
    "                          longest_theorem = train_dataset.longest_theorem, \n",
    "                 unique_tokens = train_dataset.unique_tokens, dictionary = train_dataset.dictionary)"
   ]
  },
  {
   "cell_type": "code",
   "execution_count": 23,
   "id": "023c5513",
   "metadata": {},
   "outputs": [],
   "source": [
    "class PositionalEncoding(nn.Module):\n",
    "\n",
    "    def __init__(self, d_model: int, dropout: float = 0.1, max_len: int = 5000):\n",
    "        super().__init__()\n",
    "        self.dropout = nn.Dropout(p=dropout)\n",
    "\n",
    "        position = torch.arange(max_len).unsqueeze(1)\n",
    "        div_term = torch.exp(torch.arange(0, d_model, 2) * (-math.log(10000.0) / d_model))\n",
    "        pe = torch.zeros(max_len, 1, d_model)\n",
    "        pe[:, 0, 0::2] = torch.sin(position * div_term)\n",
    "        pe[:, 0, 1::2] = torch.cos(position * div_term)\n",
    "        self.register_buffer('pe', pe)\n",
    "\n",
    "    def forward(self, x: Tensor) -> Tensor:\n",
    "        \"\"\"\n",
    "        Args:\n",
    "            x: Tensor, shape [seq_len, batch_size, embedding_dim]\n",
    "        \"\"\"\n",
    "        x = x + self.pe[:x.size(0)]\n",
    "        return self.dropout(x)"
   ]
  },
  {
   "cell_type": "code",
   "execution_count": 24,
   "id": "6339de1a",
   "metadata": {},
   "outputs": [],
   "source": [
    "class TransformerModelMI(nn.Module):\n",
    "\n",
    "    def __init__(self, ntoken: int, d_model: int, nhead: int, d_hid: int,\n",
    "                 nlayers: int, null_token:int, \n",
    "                 max_length_i: int, \n",
    "                 max_length_d: int,\n",
    "                 max_length_a: int,\n",
    "                 max_length_proof:int,\n",
    "                 dropout: float = 0.5, output_classes: int=2):\n",
    "        super().__init__()\n",
    "        #if norm_layer is None:\n",
    "        #   norm_layer = nn.BatchNorm2d\n",
    "        self.model_type = 'Transformer'\n",
    "        self.pos_encoder = PositionalEncoding(d_model, dropout)\n",
    "        encoder_layers = TransformerEncoderLayer(d_model, nhead, d_hid, dropout, batch_first=True)\n",
    "     \n",
    "#       dep_encoder_layers = TransformerEncoderLayer(d_model, nhead, d_hid, dropout)\n",
    "        \n",
    "        proof_layers = TransformerEncoderLayer(d_model, nhead, d_hid, dropout, batch_first=True)\n",
    "\n",
    "        self.transformer_encoder = TransformerEncoder(encoder_layers, nlayers)\n",
    "        self.proof_encoder = TransformerEncoder(proof_layers, nlayers)\n",
    "        \n",
    "\n",
    "        self.encoder = nn.Embedding(ntoken, d_model)\n",
    "        \n",
    "        self.d_model = d_model\n",
    "        \n",
    "        self.null_token = null_token\n",
    "        self.d_hid = d_hid\n",
    "        \n",
    "        self.max_length_i = max_length_i\n",
    "        self.max_length_d = max_length_d\n",
    "        self.max_length_a = max_length_a\n",
    "        self.max_length_proof = max_length_proof\n",
    "        \n",
    "        self.decoder_gru = nn.LSTM(d_model, d_hid, batch_first=True, bidirectional=True, num_layers=nlayers)\n",
    "        self.decoder_final = nn.Linear(2*nlayers*d_hid*2, output_classes)\n",
    "        self.init_weights()\n",
    "\n",
    "    def init_weights(self):\n",
    "        initrange = 0.1\n",
    "        self.encoder.weight.data.uniform_(-initrange, initrange)\n",
    "        \n",
    "        \n",
    "    def forward(self, src: Tensor, dependencies:Tensor, splitted: Tensor, proof: Tensor, src_mask: Tensor,\n",
    "               src_mask_avg:Tensor, src_mask_proof:Tensor):\n",
    "        \n",
    "        proof = self.encoder(proof) * math.sqrt(self.d_model)\n",
    "        proof = self.pos_encoder(proof)\n",
    "        proof = self.proof_encoder(proof, src_mask_proof)\n",
    "        \n",
    "        padding_mask = src==0\n",
    "        src = self.encoder(src) * math.sqrt(self.d_model)\n",
    "        src = self.pos_encoder(src)\n",
    "        output = self.transformer_encoder(src, src_key_padding_mask=padding_mask)\n",
    "\n",
    "        \n",
    "        output = torch.concat((output, proof), axis=1)\n",
    "#         print(output.shape)\n",
    "#         print('error concat output')\n",
    "#         output = torch.transpose(output, 1, 2)\n",
    "        _, (output_h, output_c) = self.decoder_gru(output)\n",
    "        output_h = torch.transpose(output_h, 1, 0)\n",
    "        output_c = torch.transpose(output_c, 1, 0)\n",
    "        output = torch.concat((output_c, output_h), axis=1)\n",
    "        \n",
    "\n",
    "        output = nn.LeakyReLU()(output)\n",
    "        output = output.flatten(start_dim=1)\n",
    "#       print('error12')  #bug check\n",
    "#       print(output.flatten(start_dim=1).shape)\n",
    "#       print(self.decoder_final.weight.shape)\n",
    "        output = nn.Softmax(dim=1)(self.decoder_final(output))\n",
    "\n",
    "        return output"
   ]
  },
  {
   "cell_type": "code",
   "execution_count": 25,
   "id": "0fafb5a0",
   "metadata": {},
   "outputs": [],
   "source": [
    "ntokens = len(train_dataset.unique_tokens)  # size of vocabulary\n",
    "emsize = 64  # embedding dimension\n",
    "d_hid = 128  # dimension of the feedforward network model in nn.TransformerEncoder\n",
    "nlayers = 2  # number of nn.TransformerEncoderLayer in nn.TransformerEncoder\n",
    "nhead = 2  # number of heads in 4nn.MultiheadAttention\n",
    "dropout = 0.2  # dropout probability\n",
    "model = TransformerModelMI(ntokens, emsize, nhead, d_hid, nlayers, train_dataset.dictionary[train_dataset.null_token] ,\n",
    "                             max_length_i = train_dataset.longest_dependencies, \n",
    "                             max_length_d = train_dataset.longest_intrm,\n",
    "                             max_length_a = train_dataset.intrm_splits,\n",
    "                           max_length_proof = train_dataset.longest_theorem,\n",
    "                           dropout=dropout,output_classes=2).to(device)\n",
    "\n",
    "criterion = nn.CrossEntropyLoss()\n",
    "# criterion = nn.BCELoss()\n",
    "lr = 0.005  # learning rate\n",
    "optimizer = torch.optim.SGD(model.parameters(), lr=lr, momentum = 0.9)\n"
   ]
  },
  {
   "cell_type": "code",
   "execution_count": 26,
   "id": "4c65cbad",
   "metadata": {},
   "outputs": [],
   "source": [
    "#nvidia-smi for monitoring memory usage \n",
    "train_dataloader = DataLoader(train_dataset, batch_size=60, shuffle=True)\n",
    "test_dataloader = DataLoader(test_dataset, batch_size=10, shuffle=True)"
   ]
  },
  {
   "cell_type": "code",
   "execution_count": 27,
   "id": "694aaaf6",
   "metadata": {},
   "outputs": [],
   "source": [
    "def generate_square_subsequent_mask(sz: int):\n",
    "    \"\"\"Generates an upper-triangular matrix of -inf, with zeros on diag.\"\"\"\n",
    "    return torch.triu(torch.ones(sz, sz) * float('-inf'), diagonal=1)"
   ]
  },
  {
   "cell_type": "code",
   "execution_count": 28,
   "id": "d1bb4438",
   "metadata": {},
   "outputs": [],
   "source": [
    "def train_loop(model, dataloader, optimizer, i_number):\n",
    "    size = len(dataloader)\n",
    "    model.train()  \n",
    "    total_loss = 0.\n",
    "    log_interval = 500\n",
    "    start_time = time.time()\n",
    "    src_mask = generate_square_subsequent_mask(dataloader.dataset.longest_intrm).to(device)\n",
    "    src_mask_avg = generate_square_subsequent_mask(dataloader.dataset.intrm_splits).to(device)\n",
    "    src_mask_proof = generate_square_subsequent_mask(dataloader.dataset.longest_theorem).to(device)\n",
    "    \n",
    "    loss_history = []\n",
    "    pbar = tqdm(dataloader, total = i_number)\n",
    "    for batch, train_data in enumerate(pbar):\n",
    "        batch_size = train_data['intrm'].size(0)\n",
    "        X = train_data['intrm'].to(device)\n",
    "        dep_intrm_vector = train_data['intrm_dep_sep'].to(device)\n",
    "        y = train_data['label'].to(device).long()\n",
    "        splitted = train_data['splitted'].to(device).long()\n",
    "        deps = train_data['deps'].to(device)\n",
    "        proof = train_data['theorem'].to(device)\n",
    "        optimizer.zero_grad()\n",
    "        output = model(X, deps, splitted, proof, src_mask, src_mask_avg, src_mask_proof)\n",
    "        #         output = model(torch.concat((X, dep_intrm_vector.reshape(-1,1), deps), axis=1), src_mask)\n",
    "#         output = output.flatten(end_dim=1)\n",
    "        loss = criterion(output, y)#.float())\n",
    "\n",
    "#         loss = criterion(output.view(-1), y.float())\n",
    "        \n",
    "        if batch % 5 == 0:\n",
    "            pbar.set_description(\"{:.2f}\".format(f1_score(y.cpu().numpy(), output.argmax(axis=1).cpu().numpy(), average='micro')))\n",
    "        \n",
    "        \n",
    "        loss.backward()\n",
    "        optimizer.step()\n",
    "        torch.nn.utils.clip_grad_norm_(model.parameters(), 0.005)\n",
    "        if batch == i_number:\n",
    "            return loss_history\n",
    "\n",
    "        total_loss += loss.item()\n",
    "        \n",
    "        if batch % log_interval == 0 and batch > 0:\n",
    "            ms_per_batch = (time.time() - start_time) * 1000 / log_interval\n",
    "            cur_loss = total_loss / log_interval\n",
    "            loss_history.append(cur_loss)\n",
    "            rolling_loss = np.mean(loss_history[-5:])\n",
    "            try:\n",
    "                ppl = math.exp(cur_loss)\n",
    "            except Exception as inst:\n",
    "                ppl = float('inf')\n",
    "            print(f'| {batch:5d}/{size:5d} batches | {rolling_loss:5.2} rolling loss |'\n",
    "                  f'ms/batch {ms_per_batch:5.2f} | '\n",
    "                  f'loss {cur_loss:5.2f} | ppl {ppl:8.2f}')\n",
    "            total_loss = 0\n",
    "            start_time = time.time()\n",
    "\n",
    "    return loss_history\n",
    "    \n"
   ]
  },
  {
   "cell_type": "code",
   "execution_count": 29,
   "id": "90aba198",
   "metadata": {},
   "outputs": [],
   "source": [
    "def evaluate(model, dataloader, criterion, test_size=10):\n",
    "    model.eval()\n",
    "    labels = []\n",
    "    predictions = []\n",
    "#     src_mask = generate_square_subsequent_mask(bptt).to(device)\n",
    "    src_mask = generate_square_subsequent_mask(dataloader.dataset.longest_intrm).to(device)\n",
    "    src_mask_avg = generate_square_subsequent_mask(dataloader.dataset.intrm_splits).to(device)\n",
    "    src_mask_proof = generate_square_subsequent_mask(dataloader.dataset.longest_theorem).to(device)\n",
    "    total_loss = 0\n",
    "    for i, test_data in enumerate(tqdm(dataloader, total = test_size)):\n",
    "        #batcg_size = 64\n",
    "        batch_size = test_data['intrm'].size(0)\n",
    "        X = test_data['intrm'].to(device)\n",
    "        dep_intrm_vector = test_data['intrm_dep_sep'].to(device)\n",
    "        y = test_data['label'].to(device).long()\n",
    "        splitted = test_data['splitted'].to(device).long()\n",
    "        deps = test_data['deps'].to(device)\n",
    "        proof = test_data['theorem'].to(device)\n",
    "\n",
    "        output = model(X, deps, splitted, proof, src_mask, src_mask_avg, src_mask_proof)\n",
    "        loss = criterion(output, y)\n",
    "        labels.append(y.cpu().numpy())        \n",
    "        predictions.append(output.argmax(axis=1).cpu().numpy())\n",
    "        total_loss+=loss.item()\n",
    "        if i>=test_size:\n",
    "            return labels, predictions, total_loss\n",
    "    return labels, predictions, total_loss"
   ]
  },
  {
   "cell_type": "code",
   "execution_count": 30,
   "id": "9054b583",
   "metadata": {
    "scrolled": true
   },
   "outputs": [
    {
     "data": {
      "application/vnd.jupyter.widget-view+json": {
       "model_id": "93130752cef94c3483a846d37a147c90",
       "version_major": 2,
       "version_minor": 0
      },
      "text/plain": [
       "  0%|          | 0/100 [00:00<?, ?it/s]"
      ]
     },
     "metadata": {},
     "output_type": "display_data"
    },
    {
     "name": "stdout",
     "output_type": "stream",
     "text": [
      "              precision    recall  f1-score   support\n",
      "\n",
      "           0       0.51      0.49      0.50       983\n",
      "           1       0.53      0.55      0.54      1037\n",
      "\n",
      "    accuracy                           0.52      2020\n",
      "   macro avg       0.52      0.52      0.52      2020\n",
      "weighted avg       0.52      0.52      0.52      2020\n",
      "\n"
     ]
    }
   ],
   "source": [
    "from sklearn.metrics import classification_report\n",
    "test_dataloader = DataLoader(test_dataset, batch_size=20, shuffle=True)\n",
    "test_labels, test_predictions, val_loss = evaluate(model, test_dataloader, criterion ,100)\n",
    "test_labels = np.array(test_labels).flatten()\n",
    "preds = np.array(test_predictions).flatten()\n",
    "print(classification_report(test_labels, preds))\n"
   ]
  },
  {
   "cell_type": "code",
   "execution_count": 31,
   "id": "2147d864",
   "metadata": {},
   "outputs": [],
   "source": [
    "#Debug session\n",
    "\n",
    "#len(train_dataloader)\n",
    "#len(test_dataloader)\n",
    "#train_dataloader\n",
    "#next(iter(train_dataloader))\n"
   ]
  },
  {
   "cell_type": "code",
   "execution_count": 32,
   "id": "af2e95f1",
   "metadata": {},
   "outputs": [],
   "source": [
    "with open('train_dataset_preprocessed.pickle','wb') as f:\n",
    "    pickle.dump(train_dataset, f)"
   ]
  },
  {
   "cell_type": "code",
   "execution_count": null,
   "id": "8c5197ea",
   "metadata": {
    "scrolled": true
   },
   "outputs": [
    {
     "data": {
      "application/vnd.jupyter.widget-view+json": {
       "model_id": "d588896a0b484d3d8d3383758a1d8a75",
       "version_major": 2,
       "version_minor": 0
      },
      "text/plain": [
       "  0%|          | 0/3 [00:00<?, ?it/s]"
      ]
     },
     "metadata": {},
     "output_type": "display_data"
    },
    {
     "data": {
      "application/vnd.jupyter.widget-view+json": {
       "model_id": "cb23e99760794d59a0c3e4e1b8b5f25e",
       "version_major": 2,
       "version_minor": 0
      },
      "text/plain": [
       "  0%|          | 0/10 [00:00<?, ?it/s]"
      ]
     },
     "metadata": {},
     "output_type": "display_data"
    },
    {
     "data": {
      "application/vnd.jupyter.widget-view+json": {
       "model_id": "c3bd9fda925a462492b89b3e63e399b0",
       "version_major": 2,
       "version_minor": 0
      },
      "text/plain": [
       "  0%|          | 0/2562 [00:00<?, ?it/s]"
      ]
     },
     "metadata": {},
     "output_type": "display_data"
    },
    {
     "name": "stdout",
     "output_type": "stream",
     "text": [
      "0.5034139680062427\n"
     ]
    },
    {
     "data": {
      "application/vnd.jupyter.widget-view+json": {
       "model_id": "1720394d204e40bca7e224f1758c84e5",
       "version_major": 2,
       "version_minor": 0
      },
      "text/plain": [
       "  0%|          | 0/1928 [00:00<?, ?it/s]"
      ]
     },
     "metadata": {},
     "output_type": "display_data"
    },
    {
     "name": "stdout",
     "output_type": "stream",
     "text": [
      "|   500/19283 batches |  0.69 rolling loss |ms/batch 473.95 | loss  0.69 | ppl     2.00\n",
      "|  1000/19283 batches |  0.68 rolling loss |ms/batch 476.39 | loss  0.67 | ppl     1.96\n",
      "|  1500/19283 batches |  0.67 rolling loss |ms/batch 472.12 | loss  0.65 | ppl     1.91\n"
     ]
    },
    {
     "data": {
      "application/vnd.jupyter.widget-view+json": {
       "model_id": "db78291cb16f43bab8fbdb106ac16a9f",
       "version_major": 2,
       "version_minor": 0
      },
      "text/plain": [
       "  0%|          | 0/2562 [00:00<?, ?it/s]"
      ]
     },
     "metadata": {},
     "output_type": "display_data"
    },
    {
     "name": "stdout",
     "output_type": "stream",
     "text": [
      "0.6483612953570035\n"
     ]
    },
    {
     "data": {
      "application/vnd.jupyter.widget-view+json": {
       "model_id": "a409d2d9343541f29bc389e63a4e7969",
       "version_major": 2,
       "version_minor": 0
      },
      "text/plain": [
       "  0%|          | 0/1928 [00:00<?, ?it/s]"
      ]
     },
     "metadata": {},
     "output_type": "display_data"
    },
    {
     "name": "stdout",
     "output_type": "stream",
     "text": [
      "|   500/19283 batches |  0.63 rolling loss |ms/batch 479.50 | loss  0.63 | ppl     1.89\n",
      "|  1000/19283 batches |  0.63 rolling loss |ms/batch 483.15 | loss  0.62 | ppl     1.87\n",
      "|  1500/19283 batches |  0.63 rolling loss |ms/batch 480.17 | loss  0.62 | ppl     1.86\n"
     ]
    },
    {
     "data": {
      "application/vnd.jupyter.widget-view+json": {
       "model_id": "9cd85e4b24d6479dbb4f955a4e6b4e2e",
       "version_major": 2,
       "version_minor": 0
      },
      "text/plain": [
       "  0%|          | 0/2562 [00:00<?, ?it/s]"
      ]
     },
     "metadata": {},
     "output_type": "display_data"
    },
    {
     "name": "stdout",
     "output_type": "stream",
     "text": [
      "0.6787943815840811\n"
     ]
    },
    {
     "data": {
      "application/vnd.jupyter.widget-view+json": {
       "model_id": "a2f551e631ac4f61bc9cf988e85bf32f",
       "version_major": 2,
       "version_minor": 0
      },
      "text/plain": [
       "  0%|          | 0/1928 [00:00<?, ?it/s]"
      ]
     },
     "metadata": {},
     "output_type": "display_data"
    },
    {
     "name": "stdout",
     "output_type": "stream",
     "text": [
      "|   500/19283 batches |  0.61 rolling loss |ms/batch 476.42 | loss  0.61 | ppl     1.84\n",
      "|  1000/19283 batches |  0.61 rolling loss |ms/batch 479.08 | loss  0.61 | ppl     1.84\n",
      "|  1500/19283 batches |  0.61 rolling loss |ms/batch 477.95 | loss  0.60 | ppl     1.83\n"
     ]
    },
    {
     "data": {
      "application/vnd.jupyter.widget-view+json": {
       "model_id": "c53495a0619945cc928779131e6f8fe7",
       "version_major": 2,
       "version_minor": 0
      },
      "text/plain": [
       "  0%|          | 0/2562 [00:00<?, ?it/s]"
      ]
     },
     "metadata": {},
     "output_type": "display_data"
    },
    {
     "name": "stdout",
     "output_type": "stream",
     "text": [
      "0.6913772922356614\n"
     ]
    },
    {
     "data": {
      "application/vnd.jupyter.widget-view+json": {
       "model_id": "bdb8c960daf3458ca40e0eea2ac7f928",
       "version_major": 2,
       "version_minor": 0
      },
      "text/plain": [
       "  0%|          | 0/1928 [00:00<?, ?it/s]"
      ]
     },
     "metadata": {},
     "output_type": "display_data"
    },
    {
     "name": "stdout",
     "output_type": "stream",
     "text": [
      "|   500/19283 batches |   0.6 rolling loss |ms/batch 477.17 | loss  0.60 | ppl     1.81\n",
      "|  1000/19283 batches |   0.6 rolling loss |ms/batch 474.52 | loss  0.59 | ppl     1.81\n",
      "|  1500/19283 batches |  0.59 rolling loss |ms/batch 473.22 | loss  0.59 | ppl     1.81\n"
     ]
    },
    {
     "data": {
      "application/vnd.jupyter.widget-view+json": {
       "model_id": "67a9040900c94e20b287bb637458cb06",
       "version_major": 2,
       "version_minor": 0
      },
      "text/plain": [
       "  0%|          | 0/2562 [00:00<?, ?it/s]"
      ]
     },
     "metadata": {},
     "output_type": "display_data"
    },
    {
     "name": "stdout",
     "output_type": "stream",
     "text": [
      "0.7169332813109637\n"
     ]
    },
    {
     "data": {
      "application/vnd.jupyter.widget-view+json": {
       "model_id": "a96b995a9a8a4338934788f28c64b0a9",
       "version_major": 2,
       "version_minor": 0
      },
      "text/plain": [
       "  0%|          | 0/1928 [00:00<?, ?it/s]"
      ]
     },
     "metadata": {},
     "output_type": "display_data"
    },
    {
     "name": "stdout",
     "output_type": "stream",
     "text": [
      "|   500/19283 batches |  0.58 rolling loss |ms/batch 475.89 | loss  0.58 | ppl     1.79\n",
      "|  1000/19283 batches |  0.58 rolling loss |ms/batch 477.86 | loss  0.58 | ppl     1.79\n",
      "|  1500/19283 batches |  0.58 rolling loss |ms/batch 479.63 | loss  0.58 | ppl     1.78\n"
     ]
    },
    {
     "data": {
      "application/vnd.jupyter.widget-view+json": {
       "model_id": "8f0274cb79dd4d8383b307099019afa9",
       "version_major": 2,
       "version_minor": 0
      },
      "text/plain": [
       "  0%|          | 0/2562 [00:00<?, ?it/s]"
      ]
     },
     "metadata": {},
     "output_type": "display_data"
    },
    {
     "name": "stdout",
     "output_type": "stream",
     "text": [
      "0.7351736246586033\n"
     ]
    },
    {
     "data": {
      "application/vnd.jupyter.widget-view+json": {
       "model_id": "160de7d2e6db43fe9a8c2e5b0cb1f680",
       "version_major": 2,
       "version_minor": 0
      },
      "text/plain": [
       "  0%|          | 0/1928 [00:00<?, ?it/s]"
      ]
     },
     "metadata": {},
     "output_type": "display_data"
    },
    {
     "name": "stdout",
     "output_type": "stream",
     "text": [
      "|   500/19283 batches |  0.58 rolling loss |ms/batch 486.03 | loss  0.58 | ppl     1.78\n",
      "|  1000/19283 batches |  0.57 rolling loss |ms/batch 472.63 | loss  0.57 | ppl     1.77\n",
      "|  1500/19283 batches |  0.57 rolling loss |ms/batch 475.90 | loss  0.57 | ppl     1.76\n"
     ]
    },
    {
     "data": {
      "application/vnd.jupyter.widget-view+json": {
       "model_id": "b256f3006dde4d21bda0f796c9f079db",
       "version_major": 2,
       "version_minor": 0
      },
      "text/plain": [
       "  0%|          | 0/2562 [00:00<?, ?it/s]"
      ]
     },
     "metadata": {},
     "output_type": "display_data"
    },
    {
     "name": "stdout",
     "output_type": "stream",
     "text": [
      "0.7376121732344908\n"
     ]
    },
    {
     "data": {
      "application/vnd.jupyter.widget-view+json": {
       "model_id": "1ff062090e5e4b03841cf51bdde42888",
       "version_major": 2,
       "version_minor": 0
      },
      "text/plain": [
       "  0%|          | 0/1928 [00:00<?, ?it/s]"
      ]
     },
     "metadata": {},
     "output_type": "display_data"
    },
    {
     "name": "stdout",
     "output_type": "stream",
     "text": [
      "|   500/19283 batches |  0.57 rolling loss |ms/batch 445.70 | loss  0.57 | ppl     1.76\n",
      "|  1000/19283 batches |  0.56 rolling loss |ms/batch 467.10 | loss  0.56 | ppl     1.75\n",
      "|  1500/19283 batches |  0.56 rolling loss |ms/batch 464.69 | loss  0.56 | ppl     1.75\n"
     ]
    },
    {
     "data": {
      "application/vnd.jupyter.widget-view+json": {
       "model_id": "a8f1fb4e4d394ac9a9817ef7216714d6",
       "version_major": 2,
       "version_minor": 0
      },
      "text/plain": [
       "  0%|          | 0/2562 [00:00<?, ?it/s]"
      ]
     },
     "metadata": {},
     "output_type": "display_data"
    },
    {
     "name": "stdout",
     "output_type": "stream",
     "text": [
      "0.7530238002341008\n"
     ]
    },
    {
     "data": {
      "application/vnd.jupyter.widget-view+json": {
       "model_id": "ce3689656fd64a9f8a2c1ac9b2bdb14d",
       "version_major": 2,
       "version_minor": 0
      },
      "text/plain": [
       "  0%|          | 0/1928 [00:00<?, ?it/s]"
      ]
     },
     "metadata": {},
     "output_type": "display_data"
    },
    {
     "name": "stdout",
     "output_type": "stream",
     "text": [
      "|   500/19283 batches |  0.56 rolling loss |ms/batch 467.87 | loss  0.56 | ppl     1.74\n",
      "|  1000/19283 batches |  0.56 rolling loss |ms/batch 461.83 | loss  0.55 | ppl     1.74\n",
      "|  1500/19283 batches |  0.55 rolling loss |ms/batch 467.26 | loss  0.55 | ppl     1.74\n"
     ]
    },
    {
     "data": {
      "application/vnd.jupyter.widget-view+json": {
       "model_id": "1524a7bf90974cd6b7ddcacdb400cbfe",
       "version_major": 2,
       "version_minor": 0
      },
      "text/plain": [
       "  0%|          | 0/2562 [00:00<?, ?it/s]"
      ]
     },
     "metadata": {},
     "output_type": "display_data"
    },
    {
     "name": "stdout",
     "output_type": "stream",
     "text": [
      "0.7557549746390948\n"
     ]
    },
    {
     "data": {
      "application/vnd.jupyter.widget-view+json": {
       "model_id": "ad4e7a68572d420db5eb5249efc3f75e",
       "version_major": 2,
       "version_minor": 0
      },
      "text/plain": [
       "  0%|          | 0/1928 [00:00<?, ?it/s]"
      ]
     },
     "metadata": {},
     "output_type": "display_data"
    },
    {
     "name": "stdout",
     "output_type": "stream",
     "text": [
      "|   500/19283 batches |  0.55 rolling loss |ms/batch 460.88 | loss  0.55 | ppl     1.74\n",
      "|  1000/19283 batches |  0.55 rolling loss |ms/batch 456.44 | loss  0.55 | ppl     1.73\n",
      "|  1500/19283 batches |  0.55 rolling loss |ms/batch 463.41 | loss  0.55 | ppl     1.73\n"
     ]
    },
    {
     "data": {
      "application/vnd.jupyter.widget-view+json": {
       "model_id": "a636fa297f9e4f8ba8a49b1bc6df71d7",
       "version_major": 2,
       "version_minor": 0
      },
      "text/plain": [
       "  0%|          | 0/2562 [00:00<?, ?it/s]"
      ]
     },
     "metadata": {},
     "output_type": "display_data"
    },
    {
     "name": "stdout",
     "output_type": "stream",
     "text": [
      "0.7657042528287165\n"
     ]
    },
    {
     "data": {
      "application/vnd.jupyter.widget-view+json": {
       "model_id": "64e3306c9b0f436e8f1869fd5d6eb857",
       "version_major": 2,
       "version_minor": 0
      },
      "text/plain": [
       "  0%|          | 0/1928 [00:00<?, ?it/s]"
      ]
     },
     "metadata": {},
     "output_type": "display_data"
    },
    {
     "name": "stdout",
     "output_type": "stream",
     "text": [
      "|   500/19283 batches |  0.55 rolling loss |ms/batch 454.46 | loss  0.55 | ppl     1.73\n",
      "|  1000/19283 batches |  0.55 rolling loss |ms/batch 474.80 | loss  0.54 | ppl     1.72\n",
      "|  1500/19283 batches |  0.55 rolling loss |ms/batch 457.39 | loss  0.55 | ppl     1.73\n"
     ]
    },
    {
     "data": {
      "application/vnd.jupyter.widget-view+json": {
       "model_id": "15f09c36f3cb44fc8fbfffee60b91b2f",
       "version_major": 2,
       "version_minor": 0
      },
      "text/plain": [
       "  0%|          | 0/10 [00:00<?, ?it/s]"
      ]
     },
     "metadata": {},
     "output_type": "display_data"
    },
    {
     "data": {
      "application/vnd.jupyter.widget-view+json": {
       "model_id": "cad47818391f4d3ab4fc0f0c761b628f",
       "version_major": 2,
       "version_minor": 0
      },
      "text/plain": [
       "  0%|          | 0/2562 [00:00<?, ?it/s]"
      ]
     },
     "metadata": {},
     "output_type": "display_data"
    },
    {
     "name": "stdout",
     "output_type": "stream",
     "text": [
      "0.49951229028482247\n"
     ]
    },
    {
     "data": {
      "application/vnd.jupyter.widget-view+json": {
       "model_id": "392a6d13f38a4352840238d3297275f7",
       "version_major": 2,
       "version_minor": 0
      },
      "text/plain": [
       "  0%|          | 0/1928 [00:00<?, ?it/s]"
      ]
     },
     "metadata": {},
     "output_type": "display_data"
    },
    {
     "name": "stdout",
     "output_type": "stream",
     "text": [
      "|   500/19283 batches |  0.69 rolling loss |ms/batch 451.78 | loss  0.69 | ppl     1.99\n",
      "|  1000/19283 batches |  0.68 rolling loss |ms/batch 451.20 | loss  0.67 | ppl     1.96\n",
      "|  1500/19283 batches |  0.67 rolling loss |ms/batch 450.76 | loss  0.65 | ppl     1.92\n"
     ]
    },
    {
     "data": {
      "application/vnd.jupyter.widget-view+json": {
       "model_id": "b436f6c6e5394b7584b082ccfd4fc7ad",
       "version_major": 2,
       "version_minor": 0
      },
      "text/plain": [
       "  0%|          | 0/2562 [00:00<?, ?it/s]"
      ]
     },
     "metadata": {},
     "output_type": "display_data"
    },
    {
     "name": "stdout",
     "output_type": "stream",
     "text": [
      "0.6413382754584471\n"
     ]
    },
    {
     "data": {
      "application/vnd.jupyter.widget-view+json": {
       "model_id": "eaf9d611e8b5476e9692726724b83119",
       "version_major": 2,
       "version_minor": 0
      },
      "text/plain": [
       "  0%|          | 0/1928 [00:00<?, ?it/s]"
      ]
     },
     "metadata": {},
     "output_type": "display_data"
    },
    {
     "name": "stdout",
     "output_type": "stream",
     "text": [
      "|   500/19283 batches |  0.63 rolling loss |ms/batch 462.61 | loss  0.63 | ppl     1.88\n",
      "|  1000/19283 batches |  0.63 rolling loss |ms/batch 468.31 | loss  0.63 | ppl     1.87\n",
      "|  1500/19283 batches |  0.63 rolling loss |ms/batch 465.95 | loss  0.62 | ppl     1.86\n"
     ]
    },
    {
     "data": {
      "application/vnd.jupyter.widget-view+json": {
       "model_id": "a50eeb8c2046432f8bf57a9c44f645f5",
       "version_major": 2,
       "version_minor": 0
      },
      "text/plain": [
       "  0%|          | 0/2562 [00:00<?, ?it/s]"
      ]
     },
     "metadata": {},
     "output_type": "display_data"
    },
    {
     "name": "stdout",
     "output_type": "stream",
     "text": [
      "0.6821108076472884\n"
     ]
    },
    {
     "data": {
      "application/vnd.jupyter.widget-view+json": {
       "model_id": "a684cd1a045c447e92cf69b48a250bc8",
       "version_major": 2,
       "version_minor": 0
      },
      "text/plain": [
       "  0%|          | 0/1928 [00:00<?, ?it/s]"
      ]
     },
     "metadata": {},
     "output_type": "display_data"
    },
    {
     "name": "stdout",
     "output_type": "stream",
     "text": [
      "|   500/19283 batches |  0.61 rolling loss |ms/batch 473.66 | loss  0.61 | ppl     1.85\n",
      "|  1000/19283 batches |  0.61 rolling loss |ms/batch 466.68 | loss  0.60 | ppl     1.83\n",
      "|  1500/19283 batches |  0.61 rolling loss |ms/batch 464.98 | loss  0.60 | ppl     1.83\n"
     ]
    },
    {
     "data": {
      "application/vnd.jupyter.widget-view+json": {
       "model_id": "367c5a40ee554fa08fd02a5176d053fe",
       "version_major": 2,
       "version_minor": 0
      },
      "text/plain": [
       "  0%|          | 0/2562 [00:00<?, ?it/s]"
      ]
     },
     "metadata": {},
     "output_type": "display_data"
    },
    {
     "name": "stdout",
     "output_type": "stream",
     "text": [
      "0.7019118220834959\n"
     ]
    },
    {
     "data": {
      "application/vnd.jupyter.widget-view+json": {
       "model_id": "8d009049e277453ba6c8f6f0b0cf1d66",
       "version_major": 2,
       "version_minor": 0
      },
      "text/plain": [
       "  0%|          | 0/1928 [00:00<?, ?it/s]"
      ]
     },
     "metadata": {},
     "output_type": "display_data"
    },
    {
     "name": "stdout",
     "output_type": "stream",
     "text": [
      "|   500/19283 batches |   0.6 rolling loss |ms/batch 464.22 | loss  0.60 | ppl     1.81\n",
      "|  1000/19283 batches |  0.59 rolling loss |ms/batch 460.86 | loss  0.59 | ppl     1.81\n",
      "|  1500/19283 batches |  0.59 rolling loss |ms/batch 462.64 | loss  0.59 | ppl     1.80\n"
     ]
    },
    {
     "data": {
      "application/vnd.jupyter.widget-view+json": {
       "model_id": "06df7b79b73a4d5087b5a8b535ef9bec",
       "version_major": 2,
       "version_minor": 0
      },
      "text/plain": [
       "  0%|          | 0/2562 [00:00<?, ?it/s]"
      ]
     },
     "metadata": {},
     "output_type": "display_data"
    },
    {
     "name": "stdout",
     "output_type": "stream",
     "text": [
      "0.7140070230198986\n"
     ]
    },
    {
     "data": {
      "application/vnd.jupyter.widget-view+json": {
       "model_id": "752c72de8f084302abc388d9ede5b016",
       "version_major": 2,
       "version_minor": 0
      },
      "text/plain": [
       "  0%|          | 0/1928 [00:00<?, ?it/s]"
      ]
     },
     "metadata": {},
     "output_type": "display_data"
    },
    {
     "name": "stdout",
     "output_type": "stream",
     "text": [
      "|   500/19283 batches |  0.58 rolling loss |ms/batch 463.46 | loss  0.58 | ppl     1.79\n",
      "|  1000/19283 batches |  0.58 rolling loss |ms/batch 463.65 | loss  0.58 | ppl     1.78\n",
      "|  1500/19283 batches |  0.58 rolling loss |ms/batch 461.38 | loss  0.57 | ppl     1.78\n"
     ]
    },
    {
     "data": {
      "application/vnd.jupyter.widget-view+json": {
       "model_id": "ffff2c32a0a64b079f9646f5ab788d1c",
       "version_major": 2,
       "version_minor": 0
      },
      "text/plain": [
       "  0%|          | 0/2562 [00:00<?, ?it/s]"
      ]
     },
     "metadata": {},
     "output_type": "display_data"
    },
    {
     "name": "stdout",
     "output_type": "stream",
     "text": [
      "0.7224931720639876\n"
     ]
    },
    {
     "data": {
      "application/vnd.jupyter.widget-view+json": {
       "model_id": "09526cdc76d34991bd637cd8acb0cc7c",
       "version_major": 2,
       "version_minor": 0
      },
      "text/plain": [
       "  0%|          | 0/1928 [00:00<?, ?it/s]"
      ]
     },
     "metadata": {},
     "output_type": "display_data"
    },
    {
     "name": "stdout",
     "output_type": "stream",
     "text": [
      "|   500/19283 batches |  0.57 rolling loss |ms/batch 465.19 | loss  0.57 | ppl     1.77\n",
      "|  1000/19283 batches |  0.57 rolling loss |ms/batch 461.02 | loss  0.57 | ppl     1.77\n",
      "|  1500/19283 batches |  0.57 rolling loss |ms/batch 463.49 | loss  0.57 | ppl     1.76\n"
     ]
    },
    {
     "data": {
      "application/vnd.jupyter.widget-view+json": {
       "model_id": "b4f61e1e8d7d49b18fa48dae6454cb65",
       "version_major": 2,
       "version_minor": 0
      },
      "text/plain": [
       "  0%|          | 0/2562 [00:00<?, ?it/s]"
      ]
     },
     "metadata": {},
     "output_type": "display_data"
    },
    {
     "name": "stdout",
     "output_type": "stream",
     "text": [
      "0.7341006632852126\n"
     ]
    },
    {
     "data": {
      "application/vnd.jupyter.widget-view+json": {
       "model_id": "af5befeac0eb4be0afa88e1d15630392",
       "version_major": 2,
       "version_minor": 0
      },
      "text/plain": [
       "  0%|          | 0/1928 [00:00<?, ?it/s]"
      ]
     },
     "metadata": {},
     "output_type": "display_data"
    },
    {
     "name": "stdout",
     "output_type": "stream",
     "text": [
      "|   500/19283 batches |  0.56 rolling loss |ms/batch 459.48 | loss  0.56 | ppl     1.75\n",
      "|  1000/19283 batches |  0.56 rolling loss |ms/batch 457.67 | loss  0.56 | ppl     1.76\n",
      "|  1500/19283 batches |  0.56 rolling loss |ms/batch 456.89 | loss  0.56 | ppl     1.75\n"
     ]
    },
    {
     "data": {
      "application/vnd.jupyter.widget-view+json": {
       "model_id": "b55e5e8b527f4e9689f74927a24c652c",
       "version_major": 2,
       "version_minor": 0
      },
      "text/plain": [
       "  0%|          | 0/2562 [00:00<?, ?it/s]"
      ]
     },
     "metadata": {},
     "output_type": "display_data"
    },
    {
     "name": "stdout",
     "output_type": "stream",
     "text": [
      "0.7417089348419822\n"
     ]
    },
    {
     "data": {
      "application/vnd.jupyter.widget-view+json": {
       "model_id": "9404c1b716d5423cb312f6ad40246e8b",
       "version_major": 2,
       "version_minor": 0
      },
      "text/plain": [
       "  0%|          | 0/1928 [00:00<?, ?it/s]"
      ]
     },
     "metadata": {},
     "output_type": "display_data"
    },
    {
     "name": "stdout",
     "output_type": "stream",
     "text": [
      "|   500/19283 batches |  0.56 rolling loss |ms/batch 450.87 | loss  0.56 | ppl     1.75\n",
      "|  1000/19283 batches |  0.56 rolling loss |ms/batch 479.63 | loss  0.56 | ppl     1.74\n",
      "|  1500/19283 batches |  0.56 rolling loss |ms/batch 551.51 | loss  0.56 | ppl     1.75\n"
     ]
    },
    {
     "data": {
      "application/vnd.jupyter.widget-view+json": {
       "model_id": "77f8455aac2f43a2a03b1f705b357c44",
       "version_major": 2,
       "version_minor": 0
      },
      "text/plain": [
       "  0%|          | 0/2562 [00:00<?, ?it/s]"
      ]
     },
     "metadata": {},
     "output_type": "display_data"
    },
    {
     "name": "stdout",
     "output_type": "stream",
     "text": [
      "0.7445376511900117\n"
     ]
    },
    {
     "data": {
      "application/vnd.jupyter.widget-view+json": {
       "model_id": "43ce8e8e652248a8a29f0579dc6b49b4",
       "version_major": 2,
       "version_minor": 0
      },
      "text/plain": [
       "  0%|          | 0/1928 [00:00<?, ?it/s]"
      ]
     },
     "metadata": {},
     "output_type": "display_data"
    },
    {
     "name": "stdout",
     "output_type": "stream",
     "text": [
      "|   500/19283 batches |  0.55 rolling loss |ms/batch 527.56 | loss  0.55 | ppl     1.74\n",
      "|  1000/19283 batches |  0.55 rolling loss |ms/batch 527.43 | loss  0.55 | ppl     1.74\n",
      "|  1500/19283 batches |  0.55 rolling loss |ms/batch 522.60 | loss  0.55 | ppl     1.74\n"
     ]
    },
    {
     "data": {
      "application/vnd.jupyter.widget-view+json": {
       "model_id": "88f7da3a161e4a78b6523283b502a6c9",
       "version_major": 2,
       "version_minor": 0
      },
      "text/plain": [
       "  0%|          | 0/2562 [00:00<?, ?it/s]"
      ]
     },
     "metadata": {},
     "output_type": "display_data"
    },
    {
     "name": "stdout",
     "output_type": "stream",
     "text": [
      "0.7617050331642606\n"
     ]
    },
    {
     "data": {
      "application/vnd.jupyter.widget-view+json": {
       "model_id": "8c38c750c0c74be292eb48c3e875e3ef",
       "version_major": 2,
       "version_minor": 0
      },
      "text/plain": [
       "  0%|          | 0/1928 [00:00<?, ?it/s]"
      ]
     },
     "metadata": {},
     "output_type": "display_data"
    },
    {
     "name": "stdout",
     "output_type": "stream",
     "text": [
      "|   500/19283 batches |  0.55 rolling loss |ms/batch 568.35 | loss  0.55 | ppl     1.73\n",
      "|  1000/19283 batches |  0.55 rolling loss |ms/batch 1260.42 | loss  0.55 | ppl     1.73\n",
      "|  1500/19283 batches |  0.55 rolling loss |ms/batch 558.39 | loss  0.55 | ppl     1.73\n"
     ]
    },
    {
     "data": {
      "application/vnd.jupyter.widget-view+json": {
       "model_id": "890e8da506554c0b925317fd2d04f325",
       "version_major": 2,
       "version_minor": 0
      },
      "text/plain": [
       "  0%|          | 0/10 [00:00<?, ?it/s]"
      ]
     },
     "metadata": {},
     "output_type": "display_data"
    },
    {
     "data": {
      "application/vnd.jupyter.widget-view+json": {
       "model_id": "1437bfd7501a41faa91c631347d8268f",
       "version_major": 2,
       "version_minor": 0
      },
      "text/plain": [
       "  0%|          | 0/2562 [00:00<?, ?it/s]"
      ]
     },
     "metadata": {},
     "output_type": "display_data"
    },
    {
     "name": "stdout",
     "output_type": "stream",
     "text": [
      "0.5045844713226687\n"
     ]
    },
    {
     "data": {
      "application/vnd.jupyter.widget-view+json": {
       "model_id": "2ba2b918bb244994ba9f487f7982de97",
       "version_major": 2,
       "version_minor": 0
      },
      "text/plain": [
       "  0%|          | 0/1928 [00:00<?, ?it/s]"
      ]
     },
     "metadata": {},
     "output_type": "display_data"
    },
    {
     "name": "stdout",
     "output_type": "stream",
     "text": [
      "|   500/19283 batches |  0.69 rolling loss |ms/batch 533.68 | loss  0.69 | ppl     2.00\n",
      "|  1000/19283 batches |  0.68 rolling loss |ms/batch 540.37 | loss  0.68 | ppl     1.97\n",
      "|  1500/19283 batches |  0.68 rolling loss |ms/batch 546.13 | loss  0.66 | ppl     1.93\n"
     ]
    },
    {
     "data": {
      "application/vnd.jupyter.widget-view+json": {
       "model_id": "d5ed43ef461b421b9837c0d94b7c6de4",
       "version_major": 2,
       "version_minor": 0
      },
      "text/plain": [
       "  0%|          | 0/2562 [00:00<?, ?it/s]"
      ]
     },
     "metadata": {},
     "output_type": "display_data"
    },
    {
     "name": "stdout",
     "output_type": "stream",
     "text": [
      "0.6196839641045649\n"
     ]
    },
    {
     "data": {
      "application/vnd.jupyter.widget-view+json": {
       "model_id": "3120f9526f234d6a85dc5209084bafae",
       "version_major": 2,
       "version_minor": 0
      },
      "text/plain": [
       "  0%|          | 0/1928 [00:00<?, ?it/s]"
      ]
     },
     "metadata": {},
     "output_type": "display_data"
    },
    {
     "name": "stdout",
     "output_type": "stream",
     "text": [
      "|   500/19283 batches |  0.64 rolling loss |ms/batch 548.92 | loss  0.64 | ppl     1.89\n",
      "|  1000/19283 batches |  0.63 rolling loss |ms/batch 554.70 | loss  0.63 | ppl     1.88\n",
      "|  1500/19283 batches |  0.63 rolling loss |ms/batch 555.26 | loss  0.62 | ppl     1.85\n"
     ]
    },
    {
     "data": {
      "application/vnd.jupyter.widget-view+json": {
       "model_id": "352e78e11b4d4c69ab34475045e394ae",
       "version_major": 2,
       "version_minor": 0
      },
      "text/plain": [
       "  0%|          | 0/2562 [00:00<?, ?it/s]"
      ]
     },
     "metadata": {},
     "output_type": "display_data"
    },
    {
     "name": "stdout",
     "output_type": "stream",
     "text": [
      "0.674112368318377\n"
     ]
    },
    {
     "data": {
      "application/vnd.jupyter.widget-view+json": {
       "model_id": "05f42b80c0dc45f49174be2bc517780d",
       "version_major": 2,
       "version_minor": 0
      },
      "text/plain": [
       "  0%|          | 0/1928 [00:00<?, ?it/s]"
      ]
     },
     "metadata": {},
     "output_type": "display_data"
    }
   ],
   "source": [
    "from copy import deepcopy\n",
    "from tqdm.notebook import trange\n",
    "from sklearn.metrics import f1_score\n",
    "import pickle\n",
    "import gc\n",
    "\n",
    "num_epochs = 1\n",
    "loss_history_global = []\n",
    "\n",
    "evaluation_results = []\n",
    "\n",
    "grad_list = []\n",
    "\n",
    "num_iters = 10\n",
    "experiments = 3\n",
    "for k in trange(experiments):\n",
    "    model = TransformerModelMI(ntokens, emsize, nhead, d_hid, nlayers, train_dataset.dictionary[train_dataset.null_token] ,\n",
    "                             max_length_i = train_dataset.longest_dependencies, \n",
    "                             max_length_d = train_dataset.longest_intrm,\n",
    "                             max_length_a = train_dataset.intrm_splits,\n",
    "                           max_length_proof = train_dataset.longest_theorem,\n",
    "                           dropout=dropout,output_classes=2).to(device)\n",
    "\n",
    "    optimizer = torch.optim.SGD(model.parameters(), lr=lr, momentum = 0.9)\n",
    "    val_history_global = []\n",
    "    for i in trange(num_iters):\n",
    "        train_dataloader = DataLoader(train_dataset, batch_size=60, shuffle=True)\n",
    "        test_dataloader = DataLoader(test_dataset, batch_size=4, shuffle=True)\n",
    "\n",
    "        test_labels, test_predictions, val_loss = evaluate(model, test_dataloader, criterion, \n",
    "                                                           int(len(test_dataloader)/10))\n",
    "        test_labels = np.array(test_labels).flatten()\n",
    "        \n",
    "        \n",
    "        preds = np.array(test_predictions).flatten()\n",
    "        print(f1_score(test_labels, preds, average='micro'))\n",
    "        \n",
    "        loss_history = train_loop(model, train_dataloader, i_number = int(len(train_dataloader)/num_iters), optimizer = optimizer)\n",
    "        loss_history_global.append(deepcopy(loss_history))\n",
    "        \n",
    "        evaluation_results.append((deepcopy(test_labels), deepcopy(preds)))\n",
    "        val_history_global.append(val_loss)\n",
    "        total_norm = 0\n",
    "        for p in model.parameters():\n",
    "            param_norm = p.grad.detach().data.norm(2)\n",
    "            total_norm += param_norm.item() ** 2\n",
    "            total_norm = total_norm ** 0.5\n",
    "\n",
    "        with open('{}_{}_history.pickle'.format(i,k),'wb') as f:\n",
    "            pickle.dump({'eval_res':evaluation_results,\"loss_hist\":loss_history,'grad':total_norm,\n",
    "                         'val_loss':val_history_global},f)\n",
    "        torch.save(model, '{}_{}_.model'.format(i,k))\n",
    "           \n",
    "    del model\n",
    "    gc.collect()"
   ]
  },
  {
   "cell_type": "code",
   "execution_count": null,
   "id": "30ad67ad",
   "metadata": {},
   "outputs": [],
   "source": []
  },
  {
   "cell_type": "code",
   "execution_count": null,
   "id": "b2738065",
   "metadata": {},
   "outputs": [],
   "source": [
    "model = torch.load(\"9_2_.model\")"
   ]
  },
  {
   "cell_type": "code",
   "execution_count": null,
   "id": "734ffd9c",
   "metadata": {},
   "outputs": [],
   "source": [
    "from sklearn.metrics import classification_report\n",
    "test_dataloader = DataLoader(test_dataset, batch_size=4, shuffle=True)\n",
    "test_labels, test_predictions, val_loss = evaluate(model, test_dataloader, criterion ,len(test_dataloader))"
   ]
  },
  {
   "cell_type": "code",
   "execution_count": null,
   "id": "3fd213ba",
   "metadata": {},
   "outputs": [],
   "source": [
    "test_labels_flatten = list(chain(*[x.tolist() for x in test_labels]))\n",
    "test_prediction_flatten = list(chain(*[x.tolist() for x in test_predictions]))"
   ]
  },
  {
   "cell_type": "code",
   "execution_count": null,
   "id": "2429fdeb",
   "metadata": {},
   "outputs": [],
   "source": [
    "print(classification_report(test_labels_flatten, test_prediction_flatten))"
   ]
  },
  {
   "cell_type": "code",
   "execution_count": null,
   "id": "45b413fa",
   "metadata": {},
   "outputs": [],
   "source": [
    "import pandas as pd\n",
    "report = classification_report(test_labels_flatten, test_prediction_flatten, output_dict=True)\n",
    "df = pd.DataFrame(report).transpose()\n",
    "df.to_csv('report.csv',  float_format='%.3f')"
   ]
  }
 ],
 "metadata": {
  "kernelspec": {
   "display_name": "Python 3 (ipykernel)",
   "language": "python",
   "name": "python3"
  },
  "language_info": {
   "codemirror_mode": {
    "name": "ipython",
    "version": 3
   },
   "file_extension": ".py",
   "mimetype": "text/x-python",
   "name": "python",
   "nbconvert_exporter": "python",
   "pygments_lexer": "ipython3",
   "version": "3.9.7"
  }
 },
 "nbformat": 4,
 "nbformat_minor": 5
}
